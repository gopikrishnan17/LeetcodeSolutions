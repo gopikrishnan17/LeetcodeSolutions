{
 "cells": [
  {
   "cell_type": "markdown",
   "metadata": {},
   "source": [
    "3238. Find the Number of Winning Players"
   ]
  },
  {
   "cell_type": "markdown",
   "metadata": {},
   "source": [
    "<b>Question:</b>\n",
    "You are given an integer n representing the number of players in a game and a 2D array pick where pick[i] = [xi, yi] represents that the player xi picked a ball of color yi.\n",
    "\n",
    "Player i wins the game if they pick strictly more than i balls of the same color. In other words,\n",
    "\n",
    "Player 0 wins if they pick any ball.\n",
    "Player 1 wins if they pick at least two balls of the same color.\n",
    "...\n",
    "Player i wins if they pick at leasti + 1 balls of the same color.\n",
    "Return the number of players who win the game.\n",
    "\n",
    "Note that multiple players can win the game."
   ]
  },
  {
   "cell_type": "markdown",
   "metadata": {},
   "source": [
    "<b>Approach:</b>\n",
    "Create a dict where the key is the player xi and value is a dict wherein key is the color and value is the count of that colour in the 2D array. The maximum of the values in the dict present in the value of the main dict will give us the maximum number of balls he/she has of the same colour and this value should be greater than the key.\n",
    "\n",
    "Time Complexity: 0(n)\n",
    "Space Complexity: 0(n)"
   ]
  },
  {
   "cell_type": "code",
   "execution_count": null,
   "metadata": {},
   "outputs": [],
   "source": [
    "class Solution:\n",
    "    def winningPlayerCount(self, n: int, pick: List[List[int]]) -> int:\n",
    "        dict2 = defaultdict(dict)\n",
    "        for ele in pick:\n",
    "            if ele[1] in dict2[ele[0]]:\n",
    "                dict2[ele[0]][ele[1]]+=1\n",
    "            else:\n",
    "                dict2[ele[0]][ele[1]]=1\n",
    "        # print(dict2)\n",
    "        ans=0\n",
    "        for ele in dict2:\n",
    "            if max(dict2[ele].values())>ele:\n",
    "                ans+=1\n",
    "        return ans"
   ]
  }
 ],
 "metadata": {
  "language_info": {
   "name": "python"
  }
 },
 "nbformat": 4,
 "nbformat_minor": 2
}
