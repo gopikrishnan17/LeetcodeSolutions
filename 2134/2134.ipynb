{
 "cells": [
  {
   "cell_type": "markdown",
   "metadata": {},
   "source": [
    "<b>2134. Minimum Swaps to Group All 1's Together II (Medium)</b>"
   ]
  },
  {
   "cell_type": "markdown",
   "metadata": {},
   "source": [
    "<b>Question:</b>\n",
    "\n",
    "A swap is defined as taking two distinct positions in an array and swapping the values in them.\n",
    "\n",
    "A circular array is defined as an array where we consider the first element and the last element to be adjacent.\n",
    "\n",
    "Given a binary circular array nums, return the minimum number of swaps required to group all 1's present in the array together at any location."
   ]
  },
  {
   "cell_type": "markdown",
   "metadata": {},
   "source": [
    "<b>Approach:</b>\n",
    "\n",
    "First get the number of ones and zeroes in the list. Our aim is to find a window wherein with minimum swaps you can get all the elements equal. This means, we'll first create a window of constant size of total number of zeroes in the list and slide it across the list checking the number of ones present in the window. Since these ones have to be swapped with zeroes, the window with the minimum number of ones is the one we're looking for. We do the same thing with a window of size number of ones in the list. The final aswer will be the minimum of these two.\n",
    "\n",
    "\n",
    "Time Complexity: 0(n),  Space Complexity: 0(1)"
   ]
  },
  {
   "cell_type": "code",
   "execution_count": null,
   "metadata": {},
   "outputs": [],
   "source": [
    "class Solution:\n",
    "    def minSwaps(self, nums: List[int]) -> int:\n",
    "        zc,oc=0,0\n",
    "        #count the number of zeroes and ones in the list\n",
    "        for ele in nums:\n",
    "            if ele==0:\n",
    "                zc+=1\n",
    "            else:\n",
    "                oc+=1\n",
    "        #create a sliding window of width of number of zeroes and count the number of ones\n",
    "        ans,tempc=float(inf),0\n",
    "        l,r=0,0\n",
    "        while r<zc:\n",
    "            if nums[r]==1:\n",
    "                tempc+=1\n",
    "            r+=1\n",
    "        ans=min(ans,tempc)\n",
    "        while r<len(nums):\n",
    "            if nums[l]==1:\n",
    "                tempc-=1\n",
    "            if nums[r]==1:\n",
    "                tempc+=1\n",
    "            ans=min(ans,tempc)\n",
    "            l+=1\n",
    "            r+=1\n",
    "        #create a sliding window of width of number of ones and count the number of zeroes\n",
    "        tempc,l,r=0,0,0\n",
    "        while r<oc:\n",
    "            if nums[r]==0:\n",
    "                tempc+=1\n",
    "            r+=1\n",
    "        ans=min(ans,tempc)\n",
    "        while r<len(nums):\n",
    "            if nums[l]==0:\n",
    "                tempc-=1\n",
    "            if nums[r]==0:\n",
    "                tempc+=1\n",
    "            ans=min(ans,tempc)\n",
    "            l+=1\n",
    "            r+=1\n",
    "        return ans"
   ]
  }
 ],
 "metadata": {
  "language_info": {
   "name": "python"
  }
 },
 "nbformat": 4,
 "nbformat_minor": 2
}
