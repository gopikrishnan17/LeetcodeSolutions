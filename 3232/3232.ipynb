{
 "cells": [
  {
   "cell_type": "markdown",
   "metadata": {},
   "source": [
    "3232. Find if Digit Game Can Be Won (Easy)"
   ]
  },
  {
   "cell_type": "markdown",
   "metadata": {},
   "source": [
    "Question:\n",
    "You are given an array of positive integers nums.\n",
    "\n",
    "Alice and Bob are playing a game. In the game, Alice can choose either all single-digit numbers or all double-digit numbers from nums, and the rest of the numbers are given to Bob. Alice wins if the sum of her numbers is strictly greater than the sum of Bob's numbers.\n",
    "\n",
    "Return true if Alice can win this game, otherwise, return false."
   ]
  },
  {
   "cell_type": "markdown",
   "metadata": {},
   "source": [
    "Approach:\n",
    "Iterate through the list and get the sum of:\n",
    "a) All the elements\n",
    "b) Either single digit numbers or double digit numbers\n",
    "\n",
    "If the sum of single digit numbers is equal to double digit numbers then return False else return True\n",
    "\n",
    "Time complexity: 0(n)\n",
    "Space Complexity: 0(1)"
   ]
  },
  {
   "cell_type": "code",
   "execution_count": null,
   "metadata": {
    "vscode": {
     "languageId": "plaintext"
    }
   },
   "outputs": [],
   "source": [
    "class Solution:\n",
    "    def canAliceWin(self, nums: List[int]) -> bool:\n",
    "        add1,adda=0,0\n",
    "        for ele in nums:\n",
    "            adda+=ele\n",
    "            if ele//10==0:\n",
    "                add1+=ele\n",
    "        return not adda-add1==add1"
   ]
  }
 ],
 "metadata": {
  "language_info": {
   "name": "python"
  }
 },
 "nbformat": 4,
 "nbformat_minor": 2
}
