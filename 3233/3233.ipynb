{
 "cells": [
  {
   "cell_type": "markdown",
   "metadata": {},
   "source": [
    "3233. Find the Count of Numbers Which Are Not Special"
   ]
  },
  {
   "cell_type": "markdown",
   "metadata": {},
   "source": [
    "Question:\n",
    "You are given 2 positive integers l and r. For any number x, all positive divisors of x except x are called the proper divisors of x.\n",
    "\n",
    "A number is called special if it has exactly 2 proper divisors. For example:\n",
    "\n",
    "The number 4 is special because it has proper divisors 1 and 2.\n",
    "The number 6 is not special because it has proper divisors 1, 2, and 3.\n",
    "Return the count of numbers in the range [l, r] that are not special."
   ]
  },
  {
   "cell_type": "markdown",
   "metadata": {},
   "source": [
    "Approach:\n",
    "Since special numbers have only two divisors except the number itself then the divisor except 1 should be a prime number. This brings us to the conclusion that special numbers are squares of prime numbers.\n",
    "\n",
    "The task at hand therefore is to find the number of primes in the range [sqrt(l),sqrt(r)]. The classic way of checking till the square root of each number if there exists a divisor for it wont give TLE. To optimise finding the prime numbers, we use Sieve of Eratosthenes.\n",
    "\n",
    "Sieve of Eratosthenes:\n",
    "Create a list of size upto the integer you want to check is prime and mark each element as False. For each element in the list from 2, traverse to all its multiples except self and mark them as True. Repeat the same for each unmarked elements in the list. The final list containing the unmarked elements are the prime numbers. Time complexity: 0(n*log(log(n)))\n",
    "\n",
    "Time complexity: 0(n*log(log(n)))\n",
    "Space complexity: 0(sqrt(n))"
   ]
  },
  {
   "cell_type": "code",
   "execution_count": null,
   "metadata": {
    "vscode": {
     "languageId": "plaintext"
    }
   },
   "outputs": [],
   "source": [
    "class Solution:\n",
    "    def nonSpecialCount(self, l: int, r: int) -> int:\n",
    "        arr = [False for i in range(int(r**0.5)+1)]\n",
    "        arr[1]=True\n",
    "        for i in range(2,len(arr)):\n",
    "            if not arr[i]:\n",
    "                for j in range(2*i,len(arr),i):\n",
    "                    arr[j]=True\n",
    "        c=0\n",
    "        for i in range(ceil(l**0.5),int(r**0.5)+1):\n",
    "            if not arr[i]:\n",
    "                print(i)\n",
    "                c+=1\n",
    "        return r-l-c+1"
   ]
  }
 ],
 "metadata": {
  "language_info": {
   "name": "python"
  }
 },
 "nbformat": 4,
 "nbformat_minor": 2
}
