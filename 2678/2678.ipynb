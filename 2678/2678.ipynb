{
 "cells": [
  {
   "cell_type": "markdown",
   "metadata": {},
   "source": [
    "2678. Number of Senior Citizens (Easy)"
   ]
  },
  {
   "cell_type": "markdown",
   "metadata": {},
   "source": [
    "Question: \n",
    "You are given a 0-indexed array of strings details. Each element of details provides information about a given passenger compressed into a string of length 15. The system is such that:\n",
    "\n",
    "The first ten characters consist of the phone number of passengers.\n",
    "The next character denotes the gender of the person.\n",
    "The following two characters are used to indicate the age of the person.\n",
    "The last two characters determine the seat allotted to that person.\n",
    "Return the number of passengers who are strictly more than 60 years old."
   ]
  },
  {
   "cell_type": "code",
   "execution_count": null,
   "metadata": {
    "vscode": {
     "languageId": "plaintext"
    }
   },
   "outputs": [],
   "source": [
    "Approach1:\n",
    "For each element in the list, convert the 12th and 13th character to integer and keep count of the number of elements greater than 60.\n",
    "Time Complexity: 0(n)\n",
    "Space Complexity: 0(1)"
   ]
  },
  {
   "cell_type": "code",
   "execution_count": null,
   "metadata": {
    "vscode": {
     "languageId": "plaintext"
    }
   },
   "outputs": [],
   "source": [
    "class Solution:\n",
    "    def countSeniors(self, details: List[str]) -> int:\n",
    "        ans=0\n",
    "        for ele in details:\n",
    "            if int(ele[11:13])>60:\n",
    "                ans+=1\n",
    "        return ans"
   ]
  },
  {
   "cell_type": "markdown",
   "metadata": {},
   "source": [
    "Approach2:\n",
    "This is a single line approach(just to test me out). It creates a list of all elements with the age greater than 60 and returns the length of that list.\n",
    "Time Complexity: 0(n)\n",
    "Space Complexity: 0(n)"
   ]
  },
  {
   "cell_type": "code",
   "execution_count": null,
   "metadata": {
    "vscode": {
     "languageId": "plaintext"
    }
   },
   "outputs": [],
   "source": [
    "class Solution:\n",
    "    def countSeniors(self, details: List[str]) -> int:\n",
    "        return len([ele for ele in details if int(ele[11:13])>60])"
   ]
  }
 ],
 "metadata": {
  "language_info": {
   "name": "python"
  }
 },
 "nbformat": 4,
 "nbformat_minor": 2
}
