{
 "cells": [
  {
   "cell_type": "markdown",
   "metadata": {},
   "source": [
    "<b>53. Maximum Subarray (Medium)</b>"
   ]
  },
  {
   "cell_type": "markdown",
   "metadata": {},
   "source": [
    "<b>Question:</b>\n",
    "\n",
    "Given an integer array nums, find the subarray with the largest sum, and return its sum.\n",
    "\n",
    "<b>Constraints:</b>\n",
    "\n",
    "1 <= nums.length <= 10^5\n",
    "\n",
    "-10^4 <= nums[i] <= 10^4"
   ]
  },
  {
   "cell_type": "markdown",
   "metadata": {},
   "source": [
    "<b>Approach:</b>\n",
    "\n",
    "So this is Kadane's algorithm. The basic idea here is to keep adding the elements until the subarray sum becomes negative, in that case we start a new subarray and we'll check for the max sum value continuously.\n",
    "\n",
    "Time Complexity: 0(n)\n",
    "Space Complexity: 0(1)"
   ]
  },
  {
   "cell_type": "code",
   "execution_count": null,
   "metadata": {},
   "outputs": [],
   "source": [
    "class Solution:\n",
    "    def maxSubArray(self, nums: List[int]) -> int:\n",
    "        ans = float(-inf)\n",
    "        add = 0\n",
    "        for ele in nums:\n",
    "            add+=ele\n",
    "            if add>ans:\n",
    "                ans=add\n",
    "            if add<0:\n",
    "                add=0\n",
    "        return ans"
   ]
  }
 ],
 "metadata": {
  "language_info": {
   "name": "python"
  }
 },
 "nbformat": 4,
 "nbformat_minor": 2
}
