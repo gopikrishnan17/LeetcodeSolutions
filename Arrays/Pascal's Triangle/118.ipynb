{
 "cells": [
  {
   "cell_type": "markdown",
   "metadata": {},
   "source": [
    "<b>118. Pascal's Triangle (Easy) </b>"
   ]
  },
  {
   "cell_type": "markdown",
   "metadata": {
    "vscode": {
     "languageId": "plaintext"
    }
   },
   "source": [
    "<b>Question:</b>\n",
    "Given an integer numRows, return the first numRows of Pascal's triangle.\n",
    "\n",
    "In Pascal's triangle, each number is the sum of the two numbers directly above it as shown:\n",
    "\n",
    "<b>Constraints:</b>\n",
    "1 <= numRows <= 30"
   ]
  },
  {
   "cell_type": "markdown",
   "metadata": {},
   "source": [
    "<b>Approach:</b>\n",
    "We create a 2D list and just follow the process.\n",
    "\n",
    "Time Complexity: 0(n*n)\n",
    "Space Complexity: 0(n*n)"
   ]
  },
  {
   "cell_type": "code",
   "execution_count": null,
   "metadata": {},
   "outputs": [],
   "source": [
    "class Solution:\n",
    "    def generate(self, numRows: int) -> List[List[int]]:\n",
    "       if numRows==1:\n",
    "        return [[1]]\n",
    "\n",
    "       ans = [[1],[1,1]]+[[1]*i for i in range(3,numRows+1)]\n",
    "       for i in range(2,len(ans)):\n",
    "        for j in range(i+1):\n",
    "            if j==0 or j==i:\n",
    "                ans[i][j]==1\n",
    "            else:\n",
    "                ans[i][j]=ans[i-1][j-1]+ans[i-1][j]\n",
    "\n",
    "       return ans "
   ]
  }
 ],
 "metadata": {
  "language_info": {
   "name": "python"
  }
 },
 "nbformat": 4,
 "nbformat_minor": 2
}
