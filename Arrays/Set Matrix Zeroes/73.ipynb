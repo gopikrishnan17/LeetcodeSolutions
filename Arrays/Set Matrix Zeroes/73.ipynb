{
 "cells": [
  {
   "cell_type": "markdown",
   "metadata": {},
   "source": [
    "<b>73. Set Matrix Zeroes (Medium)</b>"
   ]
  },
  {
   "cell_type": "markdown",
   "metadata": {},
   "source": [
    "<b>Question:</b>\n",
    "Given an m x n integer matrix matrix, if an element is 0, set its entire row and column to 0's.\n",
    "\n",
    "You must do it in place.\n",
    "\n",
    "<b>Constraints:</b>\n",
    "m == matrix.length\n",
    "\n",
    "n == matrix[0].length\n",
    "\n",
    "1 <= m, n <= 200\n",
    "\n",
    "-231 <= matrix[i][j] <= 231 - 1"
   ]
  },
  {
   "cell_type": "markdown",
   "metadata": {},
   "source": [
    "<b>Approach:</b>\n",
    "Since if there's even a single zero in a row or a column, that whole row and column has to be changed to zeroes, we will create 2 sets denoting the rows and cols which have zeroes respectively. We then traverse the matrix and mark all the cells which have either its row value or column value in the sets.\n",
    "\n",
    "Time Complexity: 0(m*n)\n",
    "Space Complexity: 0(m+n)"
   ]
  },
  {
   "cell_type": "code",
   "execution_count": null,
   "metadata": {},
   "outputs": [],
   "source": [
    "class Solution:\n",
    "    def setZeroes(self, matrix: List[List[int]]) -> None:\n",
    "        rows, cols = set(), set()\n",
    "        for i in range(len(matrix)):\n",
    "            for j in range(len(matrix[0])):\n",
    "                if matrix[i][j]==0:\n",
    "                    rows.add(i)\n",
    "                    cols.add(j)\n",
    "        for i in range(len(matrix)):\n",
    "            for j in range(len(matrix[0])):\n",
    "                if i in rows or j in cols:\n",
    "                    matrix[i][j]=0\n",
    "                    \n",
    "        "
   ]
  }
 ],
 "metadata": {
  "language_info": {
   "name": "python"
  }
 },
 "nbformat": 4,
 "nbformat_minor": 2
}
