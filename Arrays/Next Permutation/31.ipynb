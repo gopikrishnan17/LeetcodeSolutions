{
 "cells": [
  {
   "cell_type": "markdown",
   "metadata": {},
   "source": [
    "<b>31. Next Permutation (Medium)</b>"
   ]
  },
  {
   "cell_type": "markdown",
   "metadata": {},
   "source": [
    "<b>Question:</b>\n",
    "\n",
    "A permutation of an array of integers is an arrangement of its members into a sequence or linear order.\n",
    "\n",
    "For example, for arr = [1,2,3], the following are all the permutations of arr: [1,2,3], [1,3,2], [2, 1, 3], [2, 3, 1], [3,1,2], [3,2,1].\n",
    "The next permutation of an array of integers is the next lexicographically greater permutation of its integer. More formally, if all the permutations of the array are sorted in one container according to their lexicographical order, then the next permutation of that array is the permutation that follows it in the sorted container. If such arrangement is not possible, the array must be rearranged as the lowest possible order (i.e., sorted in ascending order).\n",
    "\n",
    "For example, the next permutation of arr = [1,2,3] is [1,3,2].\n",
    "Similarly, the next permutation of arr = [2,3,1] is [3,1,2].\n",
    "While the next permutation of arr = [3,2,1] is [1,2,3] because [3,2,1] does not have a lexicographical larger rearrangement.\n",
    "Given an array of integers nums, find the next permutation of nums.\n",
    "\n",
    "The replacement must be in place and use only constant extra memory.\n",
    "\n",
    "<b>Constraints:</b>\n",
    "1 <= nums.length <= 100\n",
    "\n",
    "0 <= nums[i] <= 100"
   ]
  },
  {
   "cell_type": "markdown",
   "metadata": {},
   "source": [
    "<b>Approach:</b>\n",
    "\n",
    "So the main concept here is to understand how I can change the order of numbers to find a number greater than the current number. We know that subsequent numbers will have a long starting portion. So will find upto how many numbers in the start will the number just greater than the current number have. For this, we find that from the right, which number is smaller than its previous number, this is the number which can be replaced with a number just greater than it. So what we would do is swap this number with the smallest numbe from the previous numbers and then sort the rest of the numbers.\n",
    "\n",
    "Time Complexity : 0(n*log(n))\n",
    "Space Complexity: 0(1)"
   ]
  },
  {
   "cell_type": "code",
   "execution_count": null,
   "metadata": {},
   "outputs": [],
   "source": [
    "class Solution:\n",
    "    def nextPermutation(self, nums: List[int]) -> None:\n",
    "        \"\"\"\n",
    "        Do not return anything, modify nums in-place instead.\n",
    "        \"\"\"\n",
    "        if len(nums)==1:\n",
    "            return\n",
    "        i=len(nums)-1\n",
    "        while i>0:\n",
    "            if nums[i-1]<nums[i]:\n",
    "                break\n",
    "            i-=1\n",
    "        if i!=0:\n",
    "            i-=1\n",
    "            for j in range(len(nums)-1,i,-1):\n",
    "                if nums[j]>nums[i]:\n",
    "                    nums[i],nums[j]=nums[j],nums[i]\n",
    "                    break\n",
    "            i+=1\n",
    "        r=len(nums)-1\n",
    "        while i<r:\n",
    "            nums[i],nums[r]=nums[r],nums[i]\n",
    "            i+=1\n",
    "            r-=1"
   ]
  }
 ],
 "metadata": {
  "language_info": {
   "name": "python"
  }
 },
 "nbformat": 4,
 "nbformat_minor": 2
}
