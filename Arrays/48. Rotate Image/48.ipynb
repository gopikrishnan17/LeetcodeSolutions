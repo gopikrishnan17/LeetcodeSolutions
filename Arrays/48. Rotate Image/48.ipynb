{
 "cells": [
  {
   "cell_type": "markdown",
   "metadata": {},
   "source": [
    "<b>48. Rotate Image (Medium)</b>"
   ]
  },
  {
   "cell_type": "markdown",
   "metadata": {},
   "source": [
    "<b>Question:</b>\n",
    "\n",
    "You are given an n x n 2D matrix representing an image, rotate the image by 90 degrees (clockwise).\n",
    "\n",
    "You have to rotate the image in-place, which means you have to modify the input 2D matrix directly. DO NOT allocate another 2D matrix and do the rotation.\n",
    "\n",
    "<b>Constraints:</b>\n",
    "\n",
    "n == matrix.length == matrix[i].length\n",
    "\n",
    "1 <= n <= 20\n",
    "\n",
    "-1000 <= matrix[i][j] <= 1000"
   ]
  },
  {
   "cell_type": "markdown",
   "metadata": {},
   "source": [
    "<b>Approach1:</b>\n",
    "\n",
    "This approach is basically analysing just the initial and final state of the matrix and coming up with an algo to solve the problem. I went with approach and I think I have also seen it in neetcode. Pretty straightforward\n",
    "\n",
    "Time Complexity:  0(n^2)\n",
    "Space Complexity: 0(1)"
   ]
  },
  {
   "cell_type": "code",
   "execution_count": null,
   "metadata": {},
   "outputs": [],
   "source": [
    "class Solution:\n",
    "    def rotate(self, matrix: List[List[int]]) -> None:\n",
    "        n=len(matrix)\n",
    "        for i in range((n+1)//2):\n",
    "            for j in range(n-2*i-1):\n",
    "                arr=[matrix[i][i+j],matrix[i+j][n-i-1],matrix[n-i-1][n-i-1-j],matrix[n-i-1-j][i]]\n",
    "                matrix[i][i+j],matrix[i+j][n-i-1],matrix[n-i-1][n-i-1-j],matrix[n-i-1-j][i]=arr[3],arr[0],arr[1],arr[2]\n"
   ]
  },
  {
   "cell_type": "markdown",
   "metadata": {},
   "source": [
    "<b>Approach2:</b>\n",
    "\n",
    "This is the approach I saw in striver's video. A very simple and nice approach purely based on observation. So the final matrix can be created by first creating the transponse of the initial matrix and then reversing the rows.\n",
    "\n",
    "Time Complexity:  0(n^2)\n",
    "Space Complexity: 0(1)"
   ]
  },
  {
   "cell_type": "code",
   "execution_count": null,
   "metadata": {},
   "outputs": [],
   "source": [
    "class Solution:\n",
    "    def rotate(self, matrix: List[List[int]]) -> None:\n",
    "        \"\"\"\n",
    "        Do not return anything, modify matrix in-place instead.\n",
    "        \"\"\"\n",
    "        n=len(matrix)\n",
    "        for i in range(n):\n",
    "            for j in range(i+1,n):\n",
    "                matrix[i][j],matrix[j][i]=matrix[j][i],matrix[i][j]\n",
    "        for i in range(n):\n",
    "            matrix[i]=matrix[i][::-1]"
   ]
  }
 ],
 "metadata": {
  "language_info": {
   "name": "python"
  }
 },
 "nbformat": 4,
 "nbformat_minor": 2
}
