{
 "cells": [
  {
   "cell_type": "markdown",
   "metadata": {},
   "source": [
    "<b>56. Merge Intervals (Medium)</b>"
   ]
  },
  {
   "cell_type": "markdown",
   "metadata": {},
   "source": [
    "<b>Question:</b>\n",
    "\n",
    "Given an array of intervals where intervals[i] = [starti, endi], merge all overlapping intervals, and return an array of the non-overlapping intervals that cover all the intervals in the input.\n",
    "\n",
    "<b>Constraints:</b>\n",
    "\n",
    "1 <= intervals.length <= 10^4\n",
    "\n",
    "intervals[i].length == 2\n",
    "\n",
    "0 <= starti <= endi <= 10^4"
   ]
  },
  {
   "cell_type": "markdown",
   "metadata": {},
   "source": [
    "<b>Approach:</b>\n",
    "\n",
    "The approach here is simple, first sort the array and then create another array which will basically be your answer and initialise it with the first element of the array. Compare the last element of the ans array with the current element in the array and if you gotta merge then change the last element of the ans array otherwise append the element to the answer array.\n",
    "\n",
    "Time Complexity: 0(n)\n",
    "Space Complexity: 0(n)"
   ]
  },
  {
   "cell_type": "code",
   "execution_count": null,
   "metadata": {},
   "outputs": [],
   "source": [
    "class Solution:\n",
    "    def merge(self, intervals: List[List[int]]) -> List[List[int]]:\n",
    "        intervals.sort()\n",
    "        ans=[intervals[0]]\n",
    "        for i in range(1,len(intervals)):\n",
    "            if intervals[i][0]>=ans[-1][0] and intervals[i][0]<=ans[-1][1]:\n",
    "                ans[-1]=[ans[-1][0], max(ans[-1][1],intervals[i][1])]\n",
    "            else:\n",
    "                ans.append(intervals[i])\n",
    "        return ans"
   ]
  }
 ],
 "metadata": {
  "language_info": {
   "name": "python"
  }
 },
 "nbformat": 4,
 "nbformat_minor": 2
}
