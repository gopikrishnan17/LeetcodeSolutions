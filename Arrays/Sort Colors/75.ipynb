{
 "cells": [
  {
   "cell_type": "markdown",
   "metadata": {},
   "source": [
    "<b>75. Sort Colors (Medium)</b>"
   ]
  },
  {
   "cell_type": "markdown",
   "metadata": {},
   "source": [
    "<b>Question:</b>\n",
    "\n",
    "Given an array nums with n objects colored red, white, or blue, sort them in-place so that objects of the same color are adjacent, with the colors in the order red, white, and blue.\n",
    "\n",
    "We will use the integers 0, 1, and 2 to represent the color red, white, and blue, respectively.\n",
    "\n",
    "You must solve this problem without using the library's sort function.\n",
    "\n",
    "\n",
    "<b>Constraints:</b>\n",
    "\n",
    "n == nums.length\n",
    "\n",
    "1 <= n <= 300\n",
    "\n",
    "nums[i] is either 0, 1, or 2."
   ]
  },
  {
   "cell_type": "markdown",
   "metadata": {},
   "source": [
    "<b>Approach:</b>\n",
    "\n",
    "There are two approaches that I can think of for this question:\n",
    "\n",
    "1) Count the number of zeroes, ones and twos in the array and then just insert it in the array. This has time complexity 0(2*n) and Space Complexity: 0(1).\n",
    "\n",
    "2) The second approach is based on the idea that if we place the zeroes in one end and twos in the other end then the ones will be automatically in the middle and the array will be sorted. We will have pointers pointing to the left and right for zero and two respectively and we'll keep replacing the numbers. We'll start with index 0 and keep moving right but in case we move 2 to the right then we wont go forward in the array without checking the elemnt wth which we replaced it again.\n",
    "\n",
    "Time Complexity: 0(n)\n",
    "Space Complexity: 0(1)"
   ]
  },
  {
   "cell_type": "code",
   "execution_count": null,
   "metadata": {},
   "outputs": [],
   "source": [
    "class Solution:\n",
    "    def sortColors(self, nums: List[int]) -> None:\n",
    "        \"\"\"\n",
    "        Do not return anything, modify nums in-place instead.\n",
    "        \"\"\"\n",
    "        z,t=0,len(nums)-1\n",
    "        i=0\n",
    "        while i<len(nums) and i<=t:\n",
    "            if nums[i]==0:\n",
    "                nums[i],nums[z]=nums[z],nums[i]\n",
    "                z+=1\n",
    "                i+=1\n",
    "            elif nums[i]==2:\n",
    "                nums[i],nums[t]=nums[t],nums[i]\n",
    "                t-=1\n",
    "            else:\n",
    "                i+=1"
   ]
  }
 ],
 "metadata": {
  "language_info": {
   "name": "python"
  }
 },
 "nbformat": 4,
 "nbformat_minor": 2
}
