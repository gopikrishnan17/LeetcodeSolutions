{
 "cells": [
  {
   "cell_type": "markdown",
   "metadata": {},
   "source": [
    "<b>3242. Design Neighbor Sum Service (Easy)</b>"
   ]
  },
  {
   "cell_type": "markdown",
   "metadata": {},
   "source": [
    "<b>Question:</b>\n",
    "You are given a n x n 2D array grid containing distinct elements in the range [0, n2 - 1].\n",
    "\n",
    "Implement the neighborSum class:\n",
    "\n",
    "neighborSum(int [][]grid) initializes the object.\n",
    "int adjacentSum(int value) returns the sum of elements which are adjacent neighbors of value, that is either to the top, left, right, or bottom of value in grid.\n",
    "int diagonalSum(int value) returns the sum of elements which are diagonal neighbors of value, that is either to the top-left, top-right, bottom-left, or bottom-right of value in grid."
   ]
  },
  {
   "cell_type": "markdown",
   "metadata": {},
   "source": [
    "<b>Approach:</b>\n",
    "It's a simple question which only requires you to know how to access the elements in the grid and also check that it doesn't go out of bounds.\n",
    "\n",
    "Time Complexity: 0(n*n)\n",
    "Space Complexity: 0(1)"
   ]
  },
  {
   "cell_type": "code",
   "execution_count": null,
   "metadata": {},
   "outputs": [],
   "source": [
    "class neighborSum:\n",
    "\n",
    "    def __init__(self, grid: List[List[int]]):\n",
    "        self.grid = grid\n",
    "        self.row = len(grid)\n",
    "        self.col = len(grid[0])\n",
    "\n",
    "    def adjacentSum(self, value: int) -> int:\n",
    "        grid,row,col = self.grid, self.row, self.col\n",
    "        for i in range(row):\n",
    "            for j in range(col):\n",
    "                if grid[i][j]==value:\n",
    "                    ans=0\n",
    "                    if i!=0:\n",
    "                        ans+=grid[i-1][j]\n",
    "                    if i!=row-1:\n",
    "                        ans+=grid[i+1][j]\n",
    "                    if j!=0:\n",
    "                        ans+=grid[i][j-1]\n",
    "                    if j!=col-1:\n",
    "                        ans+=grid[i][j+1]\n",
    "        return ans\n",
    "\n",
    "\n",
    "    def diagonalSum(self, value: int) -> int:\n",
    "        grid,row,col = self.grid, self.row, self.col\n",
    "        for i in range(row):\n",
    "            for j in range(col):\n",
    "                if grid[i][j]==value:\n",
    "                    ans=0\n",
    "                    if i!=0:\n",
    "                        if j!=0:\n",
    "                            ans+=grid[i-1][j-1]\n",
    "                        if j!=col-1:\n",
    "                            ans+=grid[i-1][j+1]\n",
    "                    if i!=row-1:\n",
    "                        if j!=0:\n",
    "                            ans+=grid[i+1][j-1]\n",
    "                        if j!=col-1:\n",
    "                            ans+=grid[i+1][j+1]\n",
    "                    \n",
    "        return ans\n",
    "\n",
    "\n",
    "# Your neighborSum object will be instantiated and called as such:\n",
    "# obj = neighborSum(grid)\n",
    "# param_1 = obj.adjacentSum(value)\n",
    "# param_2 = obj.diagonalSum(value)"
   ]
  }
 ],
 "metadata": {
  "language_info": {
   "name": "python"
  }
 },
 "nbformat": 4,
 "nbformat_minor": 2
}
