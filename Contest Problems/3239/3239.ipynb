{
 "cells": [
  {
   "cell_type": "markdown",
   "metadata": {},
   "source": [
    "<b>3239. Minimum Number of Flips to Make Binary Grid Palindromic I (Medium)</b>"
   ]
  },
  {
   "cell_type": "markdown",
   "metadata": {},
   "source": [
    "<b>Question:</b>\n",
    "You are given an m x n binary matrix grid.\n",
    "\n",
    "A row or column is considered palindromic if its values read the same forward and backward.\n",
    "\n",
    "You can flip any number of cells in grid from 0 to 1, or from 1 to 0.\n",
    "\n",
    "Return the minimum number of cells that need to be flipped to make either all rows palindromic or all columns palindromic."
   ]
  },
  {
   "cell_type": "markdown",
   "metadata": {},
   "source": [
    "<b>Approach:</b>\n",
    "As the question states, first traverse all rows individually and check how many flips are required to make all of them palindromic and then traverse through all the columns individually and check how many flips are required. Return the minimum of the two.\n",
    "\n",
    "Time Complexity: 0(m*n)\n",
    "Space Complexity: 0(1)"
   ]
  },
  {
   "cell_type": "code",
   "execution_count": null,
   "metadata": {},
   "outputs": [],
   "source": [
    "class Solution:\n",
    "    def minFlips(self, grid: List[List[int]]) -> int:\n",
    "        row,col=len(grid),len(grid[0])\n",
    "        #for rows\n",
    "        chg=0\n",
    "        for ele in grid:\n",
    "            l,r=0,col-1\n",
    "            while l<r:\n",
    "                if ele[l]!=ele[r]:\n",
    "                    chg+=1\n",
    "                l+=1\n",
    "                r-=1\n",
    "        chg2=0\n",
    "        for c in range(col):\n",
    "            u,d=0,row-1\n",
    "            while u<d:\n",
    "                if grid[u][c]!=grid[d][c]:\n",
    "                    chg2+=1\n",
    "                u+=1\n",
    "                d-=1\n",
    "        return min(chg,chg2)"
   ]
  }
 ],
 "metadata": {
  "language_info": {
   "name": "python"
  }
 },
 "nbformat": 4,
 "nbformat_minor": 2
}
