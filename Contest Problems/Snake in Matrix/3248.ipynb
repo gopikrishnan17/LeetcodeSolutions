{
 "cells": [
  {
   "cell_type": "markdown",
   "metadata": {},
   "source": [
    "<b>3248. Snake in Matrix (Medium)</b>"
   ]
  },
  {
   "cell_type": "markdown",
   "metadata": {},
   "source": [
    "<b>Question:</b>\n",
    "There is a snake in an n x n matrix grid and can move in four possible directions. Each cell in the grid is identified by the position: grid[i][j] = (i * n) + j.\n",
    "\n",
    "The snake starts at cell 0 and follows a sequence of commands.\n",
    "\n",
    "You are given an integer n representing the size of the grid and an array of strings commands where each command[i] is either \"UP\", \"RIGHT\", \"DOWN\", and \"LEFT\". It's guaranteed that the snake will remain within the grid boundaries throughout its movement.\n",
    "\n",
    "Return the position of the final cell where the snake ends up after executing commands.\n",
    "\n",
    "<b>Constraints:</b>\n",
    "2 <= n <= 10\n",
    "\n",
    "1 <= commands.length <= 100\n",
    "\n",
    "commands consists only of \"UP\", \"RIGHT\", \"DOWN\", and \"LEFT\".\n",
    "\n",
    "The input is generated such the snake will not move outside of the boundaries."
   ]
  },
  {
   "cell_type": "markdown",
   "metadata": {},
   "source": [
    "<b>Approach:</b>\n",
    "Keep track of the position you're in and the row changes if there's an up or down operation and column if there's a left or right operation\n",
    "\n",
    "Time Complexity: 0(n)\n",
    "Space Complexity: 0(1)"
   ]
  },
  {
   "cell_type": "code",
   "execution_count": null,
   "metadata": {},
   "outputs": [],
   "source": [
    "class Solution:\n",
    "    def finalPositionOfSnake(self, n: int, commands: List[str]) -> int:\n",
    "        pos = [0,0]\n",
    "        for ele in commands:\n",
    "            if ele=='UP':\n",
    "                pos[0]-=1\n",
    "            elif ele=='DOWN':\n",
    "                pos[0]+=1\n",
    "            elif ele=='LEFT':\n",
    "                pos[1]-=1\n",
    "            else:\n",
    "                pos[1]+=1\n",
    "        return pos[0]*n+pos[1]"
   ]
  }
 ],
 "metadata": {
  "language_info": {
   "name": "python"
  }
 },
 "nbformat": 4,
 "nbformat_minor": 2
}
