{
 "cells": [
  {
   "cell_type": "markdown",
   "metadata": {},
   "source": [
    "<b>3249. Count the Number of Good Nodes (Medium)</b>"
   ]
  },
  {
   "cell_type": "markdown",
   "metadata": {},
   "source": [
    "<b>Question:</b>\n",
    "There is an undirected tree with n nodes labeled from 0 to n - 1, and rooted at node 0. You are given a 2D integer array edges of length n - 1, where edges[i] = [ai, bi] indicates that there is an edge between nodes ai and bi in the tree.\n",
    "\n",
    "A node is good if all the \n",
    "subtrees\n",
    " rooted at its children have the same size.\n",
    "\n",
    "Return the number of good nodes in the given tree.\n",
    "\n",
    "A subtree of treeName is a tree consisting of a node in treeName and all of its descendants.\n",
    "\n",
    "<b>Constraints:</b>\n",
    "2 <= n <= 10^5\n",
    "\n",
    "edges.length == n - 1\n",
    "\n",
    "edges[i].length == 2\n",
    "\n",
    "0 <= a[i], b[i] < n\n",
    "\n",
    "The input is generated such that edges represents a valid tree."
   ]
  },
  {
   "cell_type": "markdown",
   "metadata": {},
   "source": [
    "<b>Approach:</b>\n",
    "The basic idea here is to use DFS and then check how many children does each node have. The tricky part here was making the tree from the given edges which is done by creating a dict for the tree and each edge's nodes are marked as each other's parent and child. We use a set to avoid revisiting the nodes which are already visited and this also helps clear the issue of counting nodes of parent as the child.\n",
    "\n",
    "Time Complexity: 0(n)\n",
    "Space Complexity: 0(n)"
   ]
  },
  {
   "cell_type": "code",
   "execution_count": null,
   "metadata": {},
   "outputs": [],
   "source": [
    "class Solution:\n",
    "    def countGoodNodes(self, edges: List[List[int]]) -> int:\n",
    "        tree = defaultdict(lambda : [[],0])\n",
    "        for i,j in edges:\n",
    "            tree[i][0].append(j)\n",
    "            tree[j][0].append(i)\n",
    "        self.ans=0\n",
    "        def dfs(node,check):\n",
    "            if node in check:\n",
    "                return\n",
    "            check.add(node)\n",
    "            kids=set()\n",
    "            for i in tree[node][0]:\n",
    "                if i not in check:\n",
    "                    dfs(i,check)\n",
    "                    tree[node][1]+=1+tree[i][1]\n",
    "                    kids.add(tree[i][1])\n",
    "            self.ans+=(len(kids)==0 or len(kids)==1)\n",
    "        \n",
    "        dfs(0,set())\n",
    "\n",
    "        return self.ans"
   ]
  }
 ],
 "metadata": {
  "language_info": {
   "name": "python"
  }
 },
 "nbformat": 4,
 "nbformat_minor": 2
}
