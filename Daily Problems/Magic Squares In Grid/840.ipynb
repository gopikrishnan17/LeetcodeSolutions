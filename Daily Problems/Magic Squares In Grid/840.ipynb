{
 "cells": [
  {
   "cell_type": "markdown",
   "metadata": {},
   "source": [
    "<b>840. Magic Squares In Grid (Medium)</b>"
   ]
  },
  {
   "cell_type": "markdown",
   "metadata": {},
   "source": [
    "<b>Question:</b>\n",
    "A 3 x 3 magic square is a 3 x 3 grid filled with distinct numbers from 1 to 9 such that each row, column, and both diagonals all have the same sum.\n",
    "\n",
    "Given a row x col grid of integers, how many 3 x 3 contiguous magic square subgrids are there?\n",
    "\n",
    "Note: while a magic square can only contain numbers from 1 to 9, grid may contain numbers up to 15.\n",
    "\n",
    "<b>Constraints:</b>\n",
    "row == grid.length\n",
    "\n",
    "col == grid[i].length\n",
    "\n",
    "1 <= row, col <= 10\n",
    "\n",
    "0 <= grid[i][j] <= 15"
   ]
  },
  {
   "cell_type": "markdown",
   "metadata": {},
   "source": [
    "<b>Approach:</b>\n",
    "SOthis question is tricky because there are a lot of conditions to be checked and once all of them have been figured out then it can be easily solved. The conditions to be checked are: Number should be in range [0,9], all rows should have same sum, all columns should have same sum, both diagonals should have same sum, all numbers in the grid should be unique. We'll traverse through all the elements in the grid that can be the starting point of a 3x3 matrix and check if that matrix is a Magic matrix.\n",
    "\n",
    "Time Complexity: 0(m*n)\n",
    "Space Complexity: 0(1)"
   ]
  },
  {
   "cell_type": "code",
   "execution_count": null,
   "metadata": {},
   "outputs": [],
   "source": [
    "class Solution:\n",
    "    def numMagicSquaresInside(self, grid: List[List[int]]) -> int:\n",
    "        def isMagic(row,col):\n",
    "            val=set()\n",
    "            for i in range(3):\n",
    "                for j in range(3):\n",
    "                    if grid[row+i][col+j] in val or grid[row+i][col+j]>9 or grid[row+i][col+j]==0:\n",
    "                        return False\n",
    "                    else:\n",
    "                        val.add(grid[row+i][col+j])\n",
    "            check=sum(grid[row][col:col+3])\n",
    "            #rows\n",
    "            for i in range(1,3):\n",
    "                if sum(grid[row+i][col:col+3])!=check:\n",
    "                    return False\n",
    "            #cols\n",
    "            for j in range(3):\n",
    "                add=0\n",
    "                for i in range(3):\n",
    "                    add+=grid[row+i][col+j]\n",
    "                if add!=check:\n",
    "                    return False\n",
    "            #diagonals\n",
    "            if (grid[row][col]+grid[row+1][col+1]+grid[row+2][col+2])==(grid[row][col+2]+grid[row+1][col+1]+grid[row+2][col])==check:\n",
    "                return True\n",
    "            return False\n",
    "        \n",
    "        rows,cols=len(grid),len(grid[0])\n",
    "        ans=0\n",
    "        for i in range(rows-2):\n",
    "            for j in range(cols-2):\n",
    "                ans+=isMagic(i,j)\n",
    "        return ans"
   ]
  }
 ],
 "metadata": {
  "language_info": {
   "name": "python"
  }
 },
 "nbformat": 4,
 "nbformat_minor": 2
}
