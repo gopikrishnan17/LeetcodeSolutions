{
 "cells": [
  {
   "cell_type": "markdown",
   "metadata": {},
   "source": [
    "<b>1937. Maximum Number of Points with Cost (Medium)</b>"
   ]
  },
  {
   "cell_type": "markdown",
   "metadata": {},
   "source": [
    "<b>Question:</b>\n",
    "You are given an m x n integer matrix points (0-indexed). Starting with 0 points, you want to maximize the number of points you can get from the matrix.\n",
    "\n",
    "To gain points, you must pick one cell in each row. Picking the cell at coordinates (r, c) will add points[r][c] to your score.\n",
    "\n",
    "However, you will lose points if you pick a cell too far from the cell that you picked in the previous row. For every two adjacent rows r and r + 1 (where 0 <= r < m - 1), picking cells at coordinates (r, c1) and (r + 1, c2) will subtract abs(c1 - c2) from your score.\n",
    "\n",
    "Return the maximum number of points you can achieve.\n",
    "\n",
    "abs(x) is defined as:\n",
    "\n",
    "x for x >= 0.\n",
    "-x for x < 0.\n",
    "\n",
    "<b>Constraints:</b>\n",
    "m == points.length\n",
    "\n",
    "n == points[r].length\n",
    "\n",
    "1 <= m, n <= 10^5\n",
    "\n",
    "1 <= m * n <= 10^5\n",
    "\n",
    "0 <= points[r][c] <= 10^5"
   ]
  },
  {
   "cell_type": "markdown",
   "metadata": {},
   "source": [
    "<b>Approach:</b>\n",
    "The question wasn't very intuitive but solving questions 931 and 1014 gave much more perspective. So the initial idea I had is for each element after 1st row, check the max points which can be added from the previous row. This approach has complexity 0(m*n^2) which has to be brought down.\n",
    "What we will be doing is first traverse the rows from left to right and then from right to left and update the max value that can be obtained from the previous elements including the weight of distance. We then update the points grid with the new data.\n",
    "\n",
    "Time Complexity: 0(m*n)\n",
    "Space Complexity: 0(n)"
   ]
  },
  {
   "cell_type": "code",
   "execution_count": null,
   "metadata": {},
   "outputs": [],
   "source": [
    "class Solution:\n",
    "    def maxPoints(self, points: List[List[int]]) -> int:\n",
    "        rows, cols = len(points), len(points[0])\n",
    "        for i in range(0,rows-1):\n",
    "            arr = [float(-inf)]*cols\n",
    "\n",
    "            #left traversal\n",
    "            maxpos=0\n",
    "            for j in range(cols):\n",
    "                maxpos= j if points[i][j]>points[i][maxpos]+maxpos-j else maxpos\n",
    "                arr[j]=points[i][maxpos]+maxpos-j\n",
    "\n",
    "            #right traversal\n",
    "            maxpos=cols-1\n",
    "            for j in range(cols-1,-1,-1):\n",
    "                maxpos= j if points[i][j]>points[i][maxpos]+j-maxpos else maxpos\n",
    "                arr[j]=max(arr[j],points[i][maxpos]+j-maxpos)\n",
    "            \n",
    "            #updating points\n",
    "            for j in range(cols):\n",
    "                points[i+1][j]+=arr[j]\n",
    "\n",
    "        return max(points[-1])"
   ]
  }
 ],
 "metadata": {
  "language_info": {
   "name": "python"
  }
 },
 "nbformat": 4,
 "nbformat_minor": 2
}
