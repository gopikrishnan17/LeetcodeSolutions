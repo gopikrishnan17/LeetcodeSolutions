{
 "cells": [
  {
   "cell_type": "markdown",
   "metadata": {},
   "source": [
    "<b>40. Combination Sum II (Medium)</b>"
   ]
  },
  {
   "cell_type": "markdown",
   "metadata": {},
   "source": [
    "<b>Question:</b>\n",
    "\n",
    "Given a collection of candidate numbers (candidates) and a target number (target), find all unique combinations in candidates where the candidate numbers sum to target.\n",
    "\n",
    "Each number in candidates may only be used once in the combination.\n",
    "\n",
    "Note: The solution set must not contain duplicate combinations.\n",
    "\n",
    "<b>Constraints:</b>\n",
    "\n",
    "1 <= candidates.length <= 100\n",
    "\n",
    "1 <= candidates[i] <= 50\n",
    "\n",
    "1 <= target <= 30"
   ]
  },
  {
   "cell_type": "markdown",
   "metadata": {},
   "source": [
    "<b>Approach:</b>\n",
    "We'll use backtracking here to find all combinations of numbers in the list that'll add up to target. The only tricky part here is to avoid duplicates which can be done by checking if the current element in the loop is equal to the initial element.\n",
    "\n",
    "Time Complexity: 0(2**n)\n",
    "Space Complexity: 0(n)"
   ]
  },
  {
   "cell_type": "code",
   "execution_count": null,
   "metadata": {},
   "outputs": [],
   "source": [
    "class Solution:\n",
    "    def combinationSum2(self, candidates: List[int], target: int) -> List[List[int]]:\n",
    "        ans = []\n",
    "        candidates.sort()\n",
    "        self.n=len(candidates)\n",
    "        def rec(arr,add,idx):\n",
    "            if add>target or idx>self.n:\n",
    "                return\n",
    "            if add==target:\n",
    "                ans.append(arr.copy())\n",
    "                return\n",
    "            for i in range(idx,self.n):\n",
    "                if i>idx and candidates[i]==candidates[i-1]:\n",
    "                    continue\n",
    "                arr.append(candidates[i])\n",
    "                rec(arr, add+candidates[i], i+1)\n",
    "                arr.pop()\n",
    "\n",
    "        rec([],0,0)\n",
    "        return ans"
   ]
  }
 ],
 "metadata": {
  "language_info": {
   "name": "python"
  }
 },
 "nbformat": 4,
 "nbformat_minor": 2
}
