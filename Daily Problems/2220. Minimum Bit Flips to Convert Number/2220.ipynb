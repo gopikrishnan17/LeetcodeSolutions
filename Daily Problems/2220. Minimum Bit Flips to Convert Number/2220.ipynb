{
 "cells": [
  {
   "cell_type": "markdown",
   "metadata": {},
   "source": [
    "<b>2220. Minimum Bit Flips to Convert Number (Easy)</b>"
   ]
  },
  {
   "cell_type": "markdown",
   "metadata": {},
   "source": [
    "<b>Question:</b>\n",
    "\n",
    "A bit flip of a number x is choosing a bit in the binary representation of x and flipping it from either 0 to 1 or 1 to 0.\n",
    "\n",
    "For example, for x = 7, the binary representation is 111 and we may choose any bit (including any leading zeros not shown) and flip it. We can flip the first bit from the right to get 110, flip the second bit from the right to get 101, flip the fifth bit from the right (a leading zero) to get 10111, etc.\n",
    "Given two integers start and goal, return the minimum number of bit flips to convert start to goal.\n",
    "\n",
    "<b>Constraints:</b>\n",
    "\n",
    "0 <= start, goal <= 10^9"
   ]
  },
  {
   "cell_type": "markdown",
   "metadata": {},
   "source": [
    "<b>Approach:</b>\n",
    "\n",
    "Basically we have to find the corresponding bits that are different in both the numbers. One brute force way to do it is to first find the binary of both the numbers and store it in arrays, make the sizes of the arrays equal and then compare the bits. It has a massive space and time requirement. Better approach is to keep getting the xor of the rightmost bit of the two numbers until both of them become zero.\n",
    "\n",
    "Time Complexity: 0(log(n)) [n is max(start, goal)]\n",
    "Space Complexity: 0(1)"
   ]
  },
  {
   "cell_type": "code",
   "execution_count": null,
   "metadata": {},
   "outputs": [],
   "source": [
    "class Solution:\n",
    "    def minBitFlips(self, start: int, goal: int) -> int:\n",
    "        ans = 0\n",
    "        while start>0 or goal>0:\n",
    "            ans += ((start & 1) ^ (goal & 1))\n",
    "            start>>=1\n",
    "            goal>>=1\n",
    "        return ans"
   ]
  }
 ],
 "metadata": {
  "language_info": {
   "name": "python"
  }
 },
 "nbformat": 4,
 "nbformat_minor": 2
}
