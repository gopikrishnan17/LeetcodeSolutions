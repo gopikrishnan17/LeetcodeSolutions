{
 "cells": [
  {
   "cell_type": "markdown",
   "metadata": {},
   "source": [
    "<b>703. Kth Largest Element in a Stream (Easy)</b>"
   ]
  },
  {
   "cell_type": "markdown",
   "metadata": {},
   "source": [
    "<b>Question:</b>\n",
    "Design a class to find the kth largest element in a stream. Note that it is the kth largest element in the sorted order, not the kth distinct element.\n",
    "\n",
    "Implement KthLargest class:\n",
    "\n",
    "KthLargest(int k, int[] nums) Initializes the object with the integer k and the stream of integers nums.\n",
    "int add(int val) Appends the integer val to the stream and returns the element representing the kth largest element in the stream.\n",
    " \n",
    "<b>Constraints:</b>\n",
    "1 <= k <= 10^4\n",
    "\n",
    "0 <= nums.length <= 10^4\n",
    "\n",
    "-10^4 <= nums[i] <= 10^4\n",
    "\n",
    "-10^4 <= val <= 10^4\n",
    "\n",
    "At most 10^4 calls will be made to add.\n",
    "\n",
    "It is guaranteed that there will be at least k elements in the array when you search for the kth element."
   ]
  },
  {
   "cell_type": "markdown",
   "metadata": {},
   "source": [
    "<b>Approach:</b>\n",
    "So initially I though that I'll maintain a maxheap and keep removing the min values to maintain its size k but this isn't possible since we can only get the max value of the heap in 0(log(n)) otherwise we'll have to use 0(n). So what we'll be doing is we'll use a minheap and keep removing the smallest elements and maintain the size of the heap as k and allways return the smallest element in the list.\n",
    "\n",
    "Time Complexity: 0(n*log(k))\n",
    "Space Complexity: 0(k)"
   ]
  },
  {
   "cell_type": "code",
   "execution_count": null,
   "metadata": {},
   "outputs": [],
   "source": [
    "class KthLargest:\n",
    "\n",
    "    def __init__(self, k: int, nums: List[int]):\n",
    "        heapify(nums)\n",
    "        self.heap=nums\n",
    "        self.k=k\n",
    "\n",
    "    def add(self, val: int) -> int:\n",
    "        heapq.heappush(self.heap,val)\n",
    "        while len(self.heap)>self.k:\n",
    "            heapq.heappop(self.heap)\n",
    "        return self.heap[0]\n",
    "\n",
    "\n",
    "# Your KthLargest object will be instantiated and called as such:\n",
    "# obj = KthLargest(k, nums)\n",
    "# param_1 = obj.add(val)"
   ]
  }
 ],
 "metadata": {
  "language_info": {
   "name": "python"
  }
 },
 "nbformat": 4,
 "nbformat_minor": 2
}
