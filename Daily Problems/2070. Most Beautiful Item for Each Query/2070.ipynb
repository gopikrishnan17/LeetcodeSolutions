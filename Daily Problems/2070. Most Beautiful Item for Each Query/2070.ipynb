{
 "cells": [
  {
   "cell_type": "markdown",
   "metadata": {},
   "source": [
    "<b>2070. Most Beautiful Item for Each Query (Medium)</b>"
   ]
  },
  {
   "cell_type": "markdown",
   "metadata": {},
   "source": [
    "<b>Question:</b>\n",
    "\n",
    "You are given a 2D integer array items where items[i] = [pricei, beautyi] denotes the price and beauty of an item respectively.\n",
    "\n",
    "You are also given a 0-indexed integer array queries. For each queries[j], you want to determine the maximum beauty of an item whose price is less than or equal to queries[j]. If no such item exists, then the answer to this query is 0.\n",
    "\n",
    "Return an array answer of the same length as queries where answer[j] is the answer to the jth query.\n",
    "\n",
    "Example 1:\n",
    "\n",
    "Input: items = [[1,2],[3,2],[2,4],[5,6],[3,5]], queries = [1,2,3,4,5,6]\n",
    "Output: [2,4,5,5,6,6]\n",
    "Explanation:\n",
    "- For queries[0]=1, [1,2] is the only item which has price <= 1. Hence, the answer for this query is 2.\n",
    "- For queries[1]=2, the items which can be considered are [1,2] and [2,4]. \n",
    "  The maximum beauty among them is 4.\n",
    "- For queries[2]=3 and queries[3]=4, the items which can be considered are [1,2], [3,2], [2,4], and [3,5].\n",
    "  The maximum beauty among them is 5.\n",
    "- For queries[4]=5 and queries[5]=6, all items can be considered.\n",
    "  Hence, the answer for them is the maximum beauty of all items, i.e., 6.\n",
    "Example 2:\n",
    "\n",
    "Input: items = [[1,2],[1,2],[1,3],[1,4]], queries = [1]\n",
    "Output: [4]\n",
    "Explanation: \n",
    "The price of every item is equal to 1, so we choose the item with the maximum beauty 4. \n",
    "Note that multiple items can have the same price and/or beauty.  \n",
    "Example 3:\n",
    "\n",
    "Input: items = [[10,1000]], queries = [5]\n",
    "Output: [0]\n",
    "Explanation:\n",
    "No item has a price less than or equal to 5, so no item can be chosen.\n",
    "Hence, the answer to the query is 0.\n",
    "\n",
    "<b>Constraints:</b>\n",
    "\n",
    "1 <= items.length, queries.length <= 10^5\n",
    "\n",
    "items[i].length == 2\n",
    "\n",
    "1 <= pricei, beautyi, queries[j] <= 10^9"
   ]
  },
  {
   "cell_type": "markdown",
   "metadata": {},
   "source": [
    "<b>Approach:</b>\n",
    "\n",
    "The brute force approach here would be to traverse the items list for each query and find out the maximum beauty where price <= query. This would be O(n^2) time complexity with cannot be used with the given constraints. Now we can optimise this by first sorting the queries and items lists and setting the limit upto which price we have to search in the items list anfter a certain query is processed. Here again we have to search through the entire items list in the worst case which still makes the time complexity 0(n^2). We can optimise this by making a maxheap out of items wherein the first element is the beauty and second the price and we go through the queries starting from max price to min price and then traversing through the heap.\n",
    "\n",
    "Time Complexity: O((m+n)log(n))\n",
    "Space Complexity: O(n)"
   ]
  },
  {
   "cell_type": "code",
   "execution_count": null,
   "metadata": {},
   "outputs": [],
   "source": [
    "class Solution:\n",
    "    def maximumBeauty(self, items: List[List[int]], queries: List[int]) -> List[int]:\n",
    "        ans = {}\n",
    "        for i in range(len(items)):\n",
    "            items[i][0], items[i][1] = -items[i][1], -items[i][0]\n",
    "        heapify(items)\n",
    "        for ele in sorted(queries, reverse=True):\n",
    "            while items and -items[0][1]>ele:\n",
    "                heapq.heappop(items)\n",
    "            if items:\n",
    "                ans[ele] = -items[0][0]\n",
    "            else:\n",
    "                ans[ele] = 0\n",
    "        ret = []\n",
    "        for ele in queries:\n",
    "            ret.append(ans[ele])\n",
    "        return ret"
   ]
  }
 ],
 "metadata": {
  "language_info": {
   "name": "python"
  }
 },
 "nbformat": 4,
 "nbformat_minor": 2
}
