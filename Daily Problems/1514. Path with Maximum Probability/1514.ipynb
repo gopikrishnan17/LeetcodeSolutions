{
 "cells": [
  {
   "cell_type": "markdown",
   "metadata": {},
   "source": [
    "<b>1514. Path with Maximum Probability (Medium)</b>"
   ]
  },
  {
   "cell_type": "markdown",
   "metadata": {},
   "source": [
    "<b>Question:</b>\n",
    "\n",
    "You are given an undirected weighted graph of n nodes (0-indexed), represented by an edge list where edges[i] = [a, b] is an undirected edge connecting the nodes a and b with a probability of success of traversing that edge succProb[i].\n",
    "\n",
    "Given two nodes start and end, find the path with the maximum probability of success to go from start to end and return its success probability.\n",
    "\n",
    "If there is no path from start to end, return 0. Your answer will be accepted if it differs from the correct answer by at most 1e-5.\n",
    "\n",
    "<b>Constraints:</b>\n",
    "\n",
    "2 <= n <= 10^4\n",
    "\n",
    "0 <= start, end < n\n",
    "\n",
    "start != end\n",
    "\n",
    "0 <= a, b < n\n",
    "\n",
    "a != b\n",
    "\n",
    "0 <= succProb.length == edges.length <= 2*10^4\n",
    "\n",
    "0 <= succProb[i] <= 1\n",
    "\n",
    "There is at most one edge between every two nodes."
   ]
  },
  {
   "cell_type": "markdown",
   "metadata": {},
   "source": [
    "<b>Approach:</b>\n",
    "\n",
    "So I wasnt able to solve the question using my approach which was to first take the absolutes of logs of each of the probabilities. We take the logs because then we can just add the probabilities and that value will be the log of its multiplication: log(a*b)=log(a) + log(b). So what we do here is to use dijkstra's algo  to find the shortest path and then convert it to normal value. Will look into why this approach didnt work.\n",
    "\n",
    "The approach that worked is to find greedily which path to prioritise among the paths available and that is found using a maxheap.so we multiply the probabilities and we keep proceeding first with the path with max probabilities to reach the destination.\n",
    "\n",
    "Time Complexity: 0(Elog(V))\n",
    "Space Complexity: 0(E+V)"
   ]
  },
  {
   "cell_type": "code",
   "execution_count": null,
   "metadata": {},
   "outputs": [],
   "source": [
    "class Solution:\n",
    "    def maxProbability(self, n: int, edges: List[List[int]], succProb: List[float], start_node: int, end_node: int) -> float:\n",
    "        dist = defaultdict(list)\n",
    "        for i in range(len(edges)):\n",
    "            dist[edges[i][0]].append([edges[i][1],succProb[i]])\n",
    "            dist[edges[i][1]].append([edges[i][0],succProb[i]])\n",
    "        \n",
    "        pq = [(-1,start_node)]\n",
    "        visit = set()\n",
    "        while pq:\n",
    "            prob , node = heapq.heappop(pq)\n",
    "            visit.add(node)\n",
    "\n",
    "            if node == end_node:\n",
    "                return -prob\n",
    "            \n",
    "            for nei, edprob in dist[node]:\n",
    "                if nei not in visit:\n",
    "                    heapq.heappush(pq, (prob*edprob, nei))\n",
    "        \n",
    "        return 0"
   ]
  }
 ],
 "metadata": {
  "language_info": {
   "name": "python"
  }
 },
 "nbformat": 4,
 "nbformat_minor": 2
}
