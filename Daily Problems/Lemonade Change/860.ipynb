{
 "cells": [
  {
   "cell_type": "markdown",
   "metadata": {},
   "source": [
    "860. Lemonade Change (Easy)"
   ]
  },
  {
   "cell_type": "markdown",
   "metadata": {},
   "source": [
    "<b>Question:</b>\n",
    "At a lemonade stand, each lemonade costs $5. Customers are standing in a queue to buy from you and order one at a time (in the order specified by bills). Each customer will only buy one lemonade and pay with either a $5, $10, or $20 bill. You must provide the correct change to each customer so that the net transaction is that the customer pays $5.\n",
    "\n",
    "Note that you do not have any change in hand at first.\n",
    "\n",
    "Given an integer array bills where bills[i] is the bill the ith customer pays, return true if you can provide every customer with the correct change, or false otherwise.\n",
    "\n",
    " <b>Constraints:</b>\n",
    " 1 <= bills.length <= 10^5\n",
    "\n",
    "bills[i] is either 5, 10, or 20.\n"
   ]
  },
  {
   "cell_type": "markdown",
   "metadata": {},
   "source": [
    "<b>Approach:</b>\n",
    "Its a pretty easy question, so since there are 3 denominations, 5, 10 and 20 and the lemonade costs 5, we gotta give balance to 10 and 20. For 10 we gotta have a 5 to give the balance and for 20 we can either give 10+5 or 3*5 but 10+5 is preferred since we gotta save the 5s (lol)."
   ]
  },
  {
   "cell_type": "code",
   "execution_count": null,
   "metadata": {},
   "outputs": [],
   "source": [
    "class Solution:\n",
    "    def lemonadeChange(self, bills: List[int]) -> bool:\n",
    "        f,t=0,0\n",
    "        for ele in bills:\n",
    "            if ele==5:\n",
    "                f+=1\n",
    "            elif ele==10:\n",
    "                f-=1\n",
    "                t+=1\n",
    "            else:\n",
    "                if t>0:\n",
    "                    t-=1\n",
    "                    f-=1\n",
    "                else:\n",
    "                    f-=3\n",
    "            if f<0:\n",
    "                return False\n",
    "        return True"
   ]
  }
 ],
 "metadata": {
  "language_info": {
   "name": "python"
  }
 },
 "nbformat": 4,
 "nbformat_minor": 2
}
