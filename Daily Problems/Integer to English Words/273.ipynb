{
 "cells": [
  {
   "cell_type": "markdown",
   "metadata": {},
   "source": [
    "<b>273. Integer to English Words (Hard)</b>"
   ]
  },
  {
   "cell_type": "markdown",
   "metadata": {
    "vscode": {
     "languageId": "plaintext"
    }
   },
   "source": [
    "<b>Question:</b>\n",
    "Convert a non-negative integer num to its English words representation.\n",
    "\n",
    "<b>Constraints:</b>\n",
    "0 <= num <= 231 - 1"
   ]
  },
  {
   "cell_type": "markdown",
   "metadata": {
    "vscode": {
     "languageId": "plaintext"
    }
   },
   "source": [
    "<b>Approach:</b>\n",
    "We have to find the repetitive work in naming a number. We can see that only till 100s the numbers have unique name, after which the number gets followed by thousand, million, etc. The approach used here is to divide the whole number into hundreds and name these hundreds individually and based on the position of that hundred (Ones, thousands, millions, etc.), we add the appropriate suffix to it. Zero is considered a special case and tackled separately. Dictionaries are used in naming the numbers and to make the code more organised.\n",
    "\n",
    "Time Complexity: 0(1),\n",
    "Space Complexity: 0(1) [Even though we use dicts and strings, we can't really call the space O(n), maybe 0(log(n))]"
   ]
  },
  {
   "cell_type": "code",
   "execution_count": null,
   "metadata": {},
   "outputs": [],
   "source": [
    "class Solution:\n",
    "    def numberToWords(self, num: int) -> str:\n",
    "        if num==0:\n",
    "            return \"Zero\"\n",
    "        arr=[]\n",
    "        n=num\n",
    "        ones={1:\"One\",2:\"Two\",3:\"Three\",4:\"Four\",5:\"Five\",6:\"Six\",7:\"Seven\",8:\"Eight\",9:\"Nine\"}\n",
    "        tens={10:\"Ten\",11:\"Eleven\",12:\"Twelve\",13:\"Thirteen\",14:\"Fourteen\",15:\"Fifteen\",16:\"Sixteen\",17:\"Seventeen\", 18:\"Eighteen\", 19: \"Nineteen\"}\n",
    "        doubles={2:\"Twenty\", 3:\"Thirty\", 4:\"Forty\", 5:\"Fifty\", 6:\"Sixty\", 7:\"Seventy\", 8:\"Eighty\",9:\"Ninety\"}\n",
    "\n",
    "        def hund(x):\n",
    "            ret = \"\"\n",
    "            if x>99:\n",
    "                ret=ones[x//100]+\" Hundred\"\n",
    "            x%=100\n",
    "            if x==0:\n",
    "                return ret\n",
    "            if x<10 and x>0:\n",
    "                ret=ret+\" \"+ones[x]\n",
    "            elif x>=10 and x<20:\n",
    "                ret=ret+\" \"+tens[x]\n",
    "            else:\n",
    "                ret=ret+\" \"+doubles[x//10]\n",
    "                if x%10>0:\n",
    "                    ret=ret+\" \"+ones[x%10]\n",
    "            return ret.strip()\n",
    "\n",
    "        while n:\n",
    "            arr.append(n%1000)\n",
    "            n//=1000\n",
    "        ans=\"\"\n",
    "        n=len(arr)\n",
    "        for i in range(len(arr)-1,-1,-1):\n",
    "            ans=ans+hund(arr[i])\n",
    "            if i==1 and arr[i]!=0:\n",
    "                ans=ans+\" Thousand \"\n",
    "            elif i==2 and arr[i]!=0:\n",
    "                ans=ans+\" Million \"\n",
    "            elif i==3 and arr[i]!=0:\n",
    "                ans=ans+\" Billion \"\n",
    "        return ans.strip()"
   ]
  }
 ],
 "metadata": {
  "language_info": {
   "name": "python"
  }
 },
 "nbformat": 4,
 "nbformat_minor": 2
}
