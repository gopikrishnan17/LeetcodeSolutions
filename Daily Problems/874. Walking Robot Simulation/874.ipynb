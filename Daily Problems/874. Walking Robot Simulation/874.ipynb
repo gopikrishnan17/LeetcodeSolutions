{
 "cells": [
  {
   "cell_type": "markdown",
   "metadata": {},
   "source": [
    "<b>874. Walking Robot Simulation (Medium)</b>"
   ]
  },
  {
   "cell_type": "markdown",
   "metadata": {},
   "source": [
    "<b>Question:</b>\n",
    "\n",
    "A robot on an infinite XY-plane starts at point (0, 0) facing north. The robot can receive a sequence of these three possible types of commands:\n",
    "\n",
    "-2: Turn left 90 degrees.\n",
    "-1: Turn right 90 degrees.\n",
    "1 <= k <= 9: Move forward k units, one unit at a time.\n",
    "Some of the grid squares are obstacles. The ith obstacle is at grid point obstacles[i] = (xi, yi). If the robot runs into an obstacle, then it will instead stay in its current location and move on to the next command.\n",
    "\n",
    "Return the maximum Euclidean distance that the robot ever gets from the origin squared (i.e. if the distance is 5, return 25).\n",
    "\n",
    "Note:\n",
    "\n",
    "North means +Y direction.\n",
    "East means +X direction.\n",
    "South means -Y direction.\n",
    "West means -X direction.\n",
    "There can be obstacle in [0,0].\n",
    "\n",
    "<b>Constraints:</b>\n",
    "\n",
    "1 <= commands.length <= 10^4\n",
    "\n",
    "commands[i] is either -2, -1, or an integer in the range [1, 9].\n",
    "\n",
    "0 <= obstacles.length <= 10^4\n",
    "\n",
    "-3 * 10^4 <= xi, yi <= 3 * 10^4\n",
    "\n",
    "The answer is guaranteed to be less than 2^31."
   ]
  },
  {
   "cell_type": "markdown",
   "metadata": {},
   "source": [
    "<b>Approach:</b>\n",
    "\n",
    "The question requires you to simulate the process, since just the blocker has to be checked and there's no other constraints then we have to follow the simulation. So the first challenge to overcome here is to figure out which direction the person will move in and how the coordinates will change according to that. What we'll do is to create an array of direction of movement and we assign the right value whenever there's a change.  Eg., there's a left or right turn the direction changes, if the person was facing noth ten only y changes by +1, and if the person is facing east then x changes by +1. So once we've figured out how the person will move, we have to figure out how the obstacles will be handled.\n",
    "The brute force method is to check for each coordinate that the person will move to if that coordinate s present in obstacles. If its there then move back, esle, move forward. Changing the obstacles from a list to set would work but a list can't be hashed. What now?\n",
    "\n",
    "The approach used here is to create a dict for x axis and y axis each. The keys of each will be the x or y axis and the values will be a list of other axis values. Now the idea used here is that when you're moving in a direction, lets say x, then the y coordinate remains constant. We will move in a axis and for each coordinate we go to, we check if the other index is there in the list val of the constant coordinate. A set can also be used as the value in the dicts for faster search.\n",
    "\n",
    "Time Complexity: 0(n)\n",
    "\n",
    "Space Complexity: 0(n)"
   ]
  },
  {
   "cell_type": "code",
   "execution_count": null,
   "metadata": {},
   "outputs": [],
   "source": [
    "class Solution:\n",
    "    def robotSim(self, commands: List[int], obstacles: List[List[int]]) -> int:\n",
    "        direction = [[0,1],[1,0],[0,-1],[-1,0]]\n",
    "        move, loc = 0, [0,0]\n",
    "        ans=0\n",
    "        dictx,dicty = defaultdict(list), defaultdict(list)\n",
    "        for x,y in obstacles:\n",
    "            dictx[x].append(y)\n",
    "            dicty[y].append(x)\n",
    "        for ele in commands:\n",
    "            if ele==-1:\n",
    "                move=(move+1)%4\n",
    "            elif ele==-2:\n",
    "                move=(move-1)%4\n",
    "            else:\n",
    "                #moving on x, y const\n",
    "                if direction[move][0]!=0:\n",
    "                    if loc[1] not in dicty:\n",
    "                        loc[0]+=ele*direction[move][0]\n",
    "                    else:\n",
    "                        for i in range(1,ele+1):\n",
    "                            loc[0]+=direction[move][0]\n",
    "                            if loc[0] in dicty[loc[1]]:\n",
    "                                loc[0]-=direction[move][0]\n",
    "                                break\n",
    "                #moving on y, x const\n",
    "                else:\n",
    "                    if loc[0] not in dictx:\n",
    "                        loc[1]+=ele*direction[move][1]\n",
    "                    else:\n",
    "                        for i in range(1,ele+1):\n",
    "                            loc[1]+=direction[move][1]\n",
    "                            if loc[1] in dictx[loc[0]]:\n",
    "                                loc[1]-=direction[move][1]\n",
    "                                break\n",
    "                ans=max(ans,loc[0]**2+loc[1]**2)\n",
    "        return ans"
   ]
  }
 ],
 "metadata": {
  "language_info": {
   "name": "python"
  }
 },
 "nbformat": 4,
 "nbformat_minor": 2
}
