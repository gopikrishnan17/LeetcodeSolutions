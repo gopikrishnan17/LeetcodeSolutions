{
 "cells": [
  {
   "cell_type": "markdown",
   "metadata": {},
   "source": [
    "<b>3016. Minimum Number of Pushes to Type Word II (Medium)</b>"
   ]
  },
  {
   "cell_type": "markdown",
   "metadata": {},
   "source": [
    "<b>Question:</b>\n",
    "You are given a string word containing lowercase English letters.\n",
    "\n",
    "Telephone keypads have keys mapped with distinct collections of lowercase English letters, which can be used to form words by pushing them. For example, the key 2 is mapped with [\"a\",\"b\",\"c\"], we need to push the key one time to type \"a\", two times to type \"b\", and three times to type \"c\" .\n",
    "\n",
    "It is allowed to remap the keys numbered 2 to 9 to distinct collections of letters. The keys can be remapped to any amount of letters, but each letter must be mapped to exactly one key. You need to find the minimum number of times the keys will be pushed to type the string word.\n",
    "\n",
    "Return the minimum number of pushes needed to type word after remapping the keys.\n",
    "\n",
    "An example mapping of letters to keys on a telephone keypad is given below. Note that 1, *, #, and 0 do not map to any letters.\n",
    "\n",
    "<b>Constraints:</b>\n",
    "\n",
    "1 <= word.length <= 105\n",
    "\n",
    "word consists of lowercase English letters."
   ]
  },
  {
   "cell_type": "markdown",
   "metadata": {
    "vscode": {
     "languageId": "plaintext"
    }
   },
   "source": [
    "<b>Approach:</b>\n",
    "Create a counter dict for the string which has the count of each alphabet in the string. We'll now follow a greedy approach wherein elements with higher occurance will be given higher priority and be placed first in the keypad. We iterate over the the dict sorted in decreasing order of value and assign each alphabet a different a position. \n",
    "\n",
    "Time Complexity: 0(n*log(n))\n",
    "Space Complexity: 0(n)"
   ]
  },
  {
   "cell_type": "code",
   "execution_count": null,
   "metadata": {},
   "outputs": [],
   "source": [
    "class Solution:\n",
    "    def minimumPushes(self, word: str) -> int:\n",
    "        dictc = Counter(word)\n",
    "        dictc = dict(sorted(dictc.items(), key = lambda item:item[1],reverse=True))\n",
    "        # print(sortdict)\n",
    "        t,ans, pos = 0,0,1\n",
    "        for ele in dictc:\n",
    "            ans+=pos*dictc[ele]\n",
    "            t+=1\n",
    "            if t==8:\n",
    "                t=0\n",
    "                pos+=1\n",
    "        return ans"
   ]
  }
 ],
 "metadata": {
  "language_info": {
   "name": "python"
  }
 },
 "nbformat": 4,
 "nbformat_minor": 2
}
