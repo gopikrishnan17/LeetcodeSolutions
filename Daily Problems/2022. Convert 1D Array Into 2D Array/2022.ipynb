{
 "cells": [
  {
   "cell_type": "markdown",
   "metadata": {},
   "source": [
    "<b>2022. Convert 1D Array Into 2D Array (Easy)</b>"
   ]
  },
  {
   "cell_type": "markdown",
   "metadata": {},
   "source": [
    "<b>Question:</b>\n",
    "\n",
    "You are given a 0-indexed 1-dimensional (1D) integer array original, and two integers, m and n. You are tasked with creating a 2-dimensional (2D) array with  m rows and n columns using all the elements from original.\n",
    "\n",
    "The elements from indices 0 to n - 1 (inclusive) of original should form the first row of the constructed 2D array, the elements from indices n to 2 * n - 1 (inclusive) should form the second row of the constructed 2D array, and so on.\n",
    "\n",
    "Return an m x n 2D array constructed according to the above procedure, or an empty 2D array if it is impossible.\n",
    "\n",
    "<b>Constraints:</b>\n",
    "\n",
    "1 <= original.length <= 5 * 10^4\n",
    "\n",
    "1 <= original[i] <= 10^5\n",
    "\n",
    "1 <= m, n <= 4 * 10^4"
   ]
  },
  {
   "cell_type": "markdown",
   "metadata": {},
   "source": [
    "<b>Approach:</b>\n",
    "\n",
    "The approach is pretty simple, we first check if the 2D matrix to be created has the same size as the input matrix. If not, we return an empty matrix, else we populate the 2D matrix column wise.\n",
    "\n",
    "Time Complexity: 0(n)\n",
    "Space Complexity: 0(m*n)"
   ]
  },
  {
   "cell_type": "code",
   "execution_count": null,
   "metadata": {},
   "outputs": [],
   "source": [
    "class Solution:\n",
    "    def construct2DArray(self, original: List[int], m: int, n: int) -> List[List[int]]:\n",
    "        if m*n != len(original):\n",
    "            return []\n",
    "        arr = [[0 for i in range(n)] for j in range(m)]\n",
    "        for i in range(len(original)):\n",
    "            arr[i//n][i%n] = original[i]\n",
    "        return arr"
   ]
  }
 ],
 "metadata": {
  "language_info": {
   "name": "python"
  }
 },
 "nbformat": 4,
 "nbformat_minor": 2
}
