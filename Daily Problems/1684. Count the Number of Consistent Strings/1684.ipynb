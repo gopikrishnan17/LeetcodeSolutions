{
 "cells": [
  {
   "cell_type": "markdown",
   "metadata": {},
   "source": [
    "<b>1684. Count the Number of Consistent Strings (Easy)</b>"
   ]
  },
  {
   "cell_type": "markdown",
   "metadata": {},
   "source": [
    "<b>Question:</b>\n",
    "\n",
    "You are given a string allowed consisting of distinct characters and an array of strings words. A string is consistent if all characters in the string appear in the string allowed.\n",
    "\n",
    "Return the number of consistent strings in the array words.\n",
    "\n",
    "<b>Constraints:</b>\n",
    "\n",
    "1 <= words.length <= 10^4\n",
    "\n",
    "1 <= allowed.length <= 26\n",
    "\n",
    "1 <= words[i].length <= 10\n",
    "\n",
    "The characters in allowed are distinct.\n",
    "\n",
    "words[i] and allowed contain only lowercase English letters.\n"
   ]
  },
  {
   "cell_type": "markdown",
   "metadata": {},
   "source": [
    "<b>Approach:</b>\n",
    "\n",
    "We have to ensure that all the letters in each of the word in the words list is in the allowed word. We can do this by checking if each letters are in the set allowed word.\n",
    "\n",
    "Time Complexity: 0(n*m\\*log(26)) [n is the length of words list, m is the length of each word] \n",
    "\n",
    "Space Complexity: 0(1)"
   ]
  },
  {
   "cell_type": "code",
   "execution_count": null,
   "metadata": {},
   "outputs": [],
   "source": [
    "class Solution:\n",
    "    def countConsistentStrings(self, allowed: str, words: List[str]) -> int:\n",
    "        ans = 0\n",
    "        check = set(allowed)\n",
    "        for ele in words:\n",
    "            flag = True\n",
    "            for w in ele:\n",
    "                if w not in check:\n",
    "                    flag = False\n",
    "                    break\n",
    "            ans+=flag\n",
    "        return ans"
   ]
  }
 ],
 "metadata": {
  "language_info": {
   "name": "python"
  }
 },
 "nbformat": 4,
 "nbformat_minor": 2
}
