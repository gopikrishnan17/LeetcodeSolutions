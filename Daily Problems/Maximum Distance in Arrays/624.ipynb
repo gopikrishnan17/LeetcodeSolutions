{
 "cells": [
  {
   "cell_type": "markdown",
   "metadata": {},
   "source": [
    "<b>624. Maximum Distance in Arrays</b>"
   ]
  },
  {
   "cell_type": "markdown",
   "metadata": {},
   "source": [
    "<b>Question:</b>\n",
    "You are given m arrays, where each array is sorted in ascending order.\n",
    "\n",
    "You can pick up two integers from two different arrays (each array picks one) and calculate the distance. We define the distance between two integers a and b to be their absolute difference |a - b|.\n",
    "\n",
    "Return the maximum distance.\n",
    "\n",
    "<b>Constraints:</b>\n",
    "m == arrays.length\n",
    "\n",
    "2 <= m <= 105\n",
    "\n",
    "1 <= arrays[i].length <= 500\n",
    "\n",
    "-104 <= arrays[i][j] <= 104\n",
    "\n",
    "arrays[i] is sorted in ascending order.\n",
    "\n",
    "There will be at most 105 integers in all the arrays."
   ]
  },
  {
   "cell_type": "markdown",
   "metadata": {},
   "source": [
    "<b>Approach:</b>\n",
    "So the approach here is to get the biggest and smallest elements from two different arrays. The Tricky part here is to manage how to handle the case when the same array has the smallest and largest elements yet, for that we'll compare sizes post checking difference.\n",
    "\n",
    "Time Complexity: 0(n)\n",
    "Space Complexity: 0(1)"
   ]
  },
  {
   "cell_type": "code",
   "execution_count": null,
   "metadata": {},
   "outputs": [],
   "source": [
    "class Solution:\n",
    "    def maxDistance(self, arrays: List[List[int]]) -> int:\n",
    "        ans=0\n",
    "        bg, sm= -10**4,10**4\n",
    "\n",
    "        for arr in arrays:\n",
    "            ans=max(ans,arr[-1]-sm,bg-arr[0])\n",
    "            bg=max(bg,arr[-1])\n",
    "            sm=min(sm,arr[0])\n",
    "        \n",
    "        return ans"
   ]
  }
 ],
 "metadata": {
  "language_info": {
   "name": "python"
  }
 },
 "nbformat": 4,
 "nbformat_minor": 2
}
