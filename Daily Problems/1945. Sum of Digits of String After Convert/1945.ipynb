{
 "cells": [
  {
   "cell_type": "markdown",
   "metadata": {},
   "source": [
    "<b>1945. Sum of Digits of String After Convert (Easy)</b>"
   ]
  },
  {
   "cell_type": "markdown",
   "metadata": {},
   "source": [
    "<b>Question: </b>\n",
    "\n",
    "You are given a string s consisting of lowercase English letters, and an integer k.\n",
    "\n",
    "First, convert s into an integer by replacing each letter with its position in the alphabet (i.e., replace 'a' with 1, 'b' with 2, ..., 'z' with 26). Then, transform the integer by replacing it with the sum of its digits. Repeat the transform operation k times in total.\n",
    "\n",
    "For example, if s = \"zbax\" and k = 2, then the resulting integer would be 8 by the following operations:\n",
    "\n",
    "Convert: \"zbax\" ➝ \"(26)(2)(1)(24)\" ➝ \"262124\" ➝ 262124\n",
    "Transform #1: 262124 ➝ 2 + 6 + 2 + 1 + 2 + 4 ➝ 17\n",
    "Transform #2: 17 ➝ 1 + 7 ➝ 8\n",
    "Return the resulting integer after performing the operations described above.\n",
    "\n",
    "<b>Constraints: </b>\n",
    "\n",
    "1 <= s.length <= 100\n",
    "\n",
    "1 <= k <= 10\n",
    "\n",
    "s consists of lowercase English letters."
   ]
  },
  {
   "cell_type": "markdown",
   "metadata": {},
   "source": [
    "<b>Approach:</b>\n",
    "\n",
    "Here we move according to the problem itself, we'll first find out what the initial number, i.e, the sum of integer values of the characters is and then we'll loop the number with conditions as the loop should run k times and also if the sum becomes single digit we can break the loop as the sum is gonna be the same going forward.\n",
    "\n",
    "Time Complexity: 0(n)\n",
    "Space Complexity: 0(1)"
   ]
  },
  {
   "cell_type": "code",
   "execution_count": null,
   "metadata": {},
   "outputs": [],
   "source": [
    "class Solution:\n",
    "    def getLucky(self, s: str, k: int) -> int:\n",
    "        s=list(s)\n",
    "        add=0\n",
    "        for i in range(len(s)):\n",
    "            s[i]=ord(s[i])-ord('a')+1\n",
    "            while s[i]>0:\n",
    "                add+=s[i]%10\n",
    "                s[i]//=10\n",
    "        while k>1 and add>9:\n",
    "            num=add\n",
    "            add=0\n",
    "            while num>0:\n",
    "                add+=num%10\n",
    "                num//=10\n",
    "            k-=1\n",
    "        return add"
   ]
  }
 ],
 "metadata": {
  "language_info": {
   "name": "python"
  }
 },
 "nbformat": 4,
 "nbformat_minor": 2
}
