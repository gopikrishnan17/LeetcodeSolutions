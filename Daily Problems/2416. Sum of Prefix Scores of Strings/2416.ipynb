{
 "cells": [
  {
   "cell_type": "markdown",
   "metadata": {},
   "source": [
    "<b>2416. Sum of Prefix Scores of Strings (Hard)</b>"
   ]
  },
  {
   "cell_type": "markdown",
   "metadata": {},
   "source": [
    "<b>Question:</b>\n",
    "\n",
    "You are given an array words of size n consisting of non-empty strings.\n",
    "\n",
    "We define the score of a string word as the number of strings words[i] such that word is a prefix of words[i].\n",
    "\n",
    "For example, if words = [\"a\", \"ab\", \"abc\", \"cab\"], then the score of \"ab\" is 2, since \"ab\" is a prefix of both \"ab\" and \"abc\".\n",
    "Return an array answer of size n where answer[i] is the sum of scores of every non-empty prefix of words[i].\n",
    "\n",
    "Note that a string is considered as a prefix of itself.\n",
    "\n",
    "<b>Constraints:</b>\n",
    "\n",
    "1 <= words.length <= 1000\n",
    "\n",
    "1 <= words[i].length <= 1000\n",
    "\n",
    "words[i] consists of lowercase English letters."
   ]
  },
  {
   "cell_type": "markdown",
   "metadata": {},
   "source": [
    "<b>Approach:</b>\n",
    "\n",
    "We create a dict of prefix count, i.e, the count of time where a word has appeared as the prefix in the list of words and check how many words are there in the list with the prefixes which can be made out of this word.\n",
    "\n",
    "Time Complexity: 0(n)\n",
    "Space Comlexity: 0(m*n) [m is length of each word and n is length of word list]"
   ]
  },
  {
   "cell_type": "code",
   "execution_count": null,
   "metadata": {},
   "outputs": [],
   "source": [
    "class Solution:\n",
    "    def sumPrefixScores(self, words: List[str]) -> List[int]:\n",
    "        dict = defaultdict(int)\n",
    "        for ele in words:\n",
    "            for i in range(1,len(ele)+1):\n",
    "                dict[ele[:i]]+=1\n",
    "        ans = []\n",
    "        for ele in words:\n",
    "            ret = 0\n",
    "            for i in range(1,len(ele)+1):\n",
    "                ret+=dict[ele[:i]]\n",
    "            ans.append(ret)\n",
    "        return ans"
   ]
  }
 ],
 "metadata": {
  "language_info": {
   "name": "python"
  }
 },
 "nbformat": 4,
 "nbformat_minor": 2
}
