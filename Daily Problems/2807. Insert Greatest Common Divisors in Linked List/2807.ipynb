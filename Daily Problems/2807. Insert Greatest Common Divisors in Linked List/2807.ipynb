{
 "cells": [
  {
   "cell_type": "markdown",
   "metadata": {},
   "source": [
    "<b>2807. Insert Greatest Common Divisors in Linked List (Medium)</b>"
   ]
  },
  {
   "cell_type": "markdown",
   "metadata": {},
   "source": [
    "<b>Question: </b>\n",
    "\n",
    "Given the head of a linked list head, in which each node contains an integer value.\n",
    "\n",
    "Between every pair of adjacent nodes, insert a new node with a value equal to the greatest common divisor of them.\n",
    "\n",
    "Return the linked list after insertion.\n",
    "\n",
    "The greatest common divisor of two numbers is the largest positive integer that evenly divides both numbers.\n",
    "\n",
    "<b>Constraints:</b>\n",
    "\n",
    "The number of nodes in the list is in the range [1, 5000].\n",
    "\n",
    "1 <= Node.val <= 1000"
   ]
  },
  {
   "cell_type": "markdown",
   "metadata": {},
   "source": [
    "<b>Approach:</b>\n",
    "\n",
    "Our main goal here is to find the gcd of two numbers. In the linked list we will start from the second element and keep track of the previous element. We are creating a new linked list for the answer but it can be done in the same list too. For GCD the math.gcd function is used [complexity 0(1)] but the one I used had a time complexity of 0(n).\n",
    "\n",
    "Time Complexity: 0(n)\n",
    "\n",
    "Space Complexity: 0(n)"
   ]
  },
  {
   "cell_type": "code",
   "execution_count": null,
   "metadata": {},
   "outputs": [],
   "source": [
    "# Definition for singly-linked list.\n",
    "# class ListNode:\n",
    "#     def __init__(self, val=0, next=None):\n",
    "#         self.val = val\n",
    "#         self.next = next\n",
    "class Solution:\n",
    "    def insertGreatestCommonDivisors(self, head: Optional[ListNode]) -> Optional[ListNode]:\n",
    "        if not head:\n",
    "            return None\n",
    "        ans = ListNode()\n",
    "        ret = ans\n",
    "        val = head.val\n",
    "        head=head.next\n",
    "        ret.next = ListNode(val = val)\n",
    "        ret = ret.next\n",
    "        while head:\n",
    "            ret.next = ListNode(val = math.gcd(val,head.val))\n",
    "            ret = ret.next\n",
    "            ret.next = ListNode(val = head.val)\n",
    "            ret = ret.next\n",
    "            val = head.val\n",
    "            head = head.next\n",
    "        return ans.next"
   ]
  }
 ],
 "metadata": {
  "language_info": {
   "name": "python"
  }
 },
 "nbformat": 4,
 "nbformat_minor": 2
}
