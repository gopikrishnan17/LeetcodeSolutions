{
 "cells": [
  {
   "cell_type": "markdown",
   "metadata": {},
   "source": [
    "<b>885. Spiral Matrix III (Medium) </b>"
   ]
  },
  {
   "cell_type": "markdown",
   "metadata": {},
   "source": [
    "<b>Question:</b>\n",
    "You start at the cell (rStart, cStart) of an rows x cols grid facing east. The northwest corner is at the first row and column in the grid, and the southeast corner is at the last row and column.\n",
    "\n",
    "You will walk in a clockwise spiral shape to visit every position in this grid. Whenever you move outside the grid's boundary, we continue our walk outside the grid (but may return to the grid boundary later.). Eventually, we reach all rows * cols spaces of the grid.\n",
    "\n",
    "Return an array of coordinates representing the positions of the grid in the order you visited them.\n",
    "\n",
    "<b>Constraints:</b>\n",
    "1 <= rows, cols <= 100\n",
    "\n",
    "0 <= rStart < rows\n",
    "\n",
    "0 <= cStart < cols"
   ]
  },
  {
   "cell_type": "markdown",
   "metadata": {},
   "source": [
    "<b>Approach:</b>\n",
    "We have a direction lists to determine which direction to go to and another variable i which determines how far from the initial position we should go to. We run a loop and the condition to be checked is that the length of the list should be lesser than the elements in the grid\n",
    "\n",
    "Time Complexity: 0(m*n),\n",
    "Space Complexity: 0(m*n)"
   ]
  },
  {
   "cell_type": "code",
   "execution_count": null,
   "metadata": {},
   "outputs": [],
   "source": [
    "class Solution:\n",
    "  def spiralMatrixIII(self, rows: int, cols: int, rStart: int, cStart: int) -> List[List[int]]:\n",
    "    dx = [1, 0, -1, 0]\n",
    "    dy = [0, 1, 0, -1]\n",
    "    ans = [[rStart, cStart]]\n",
    "    i = 0\n",
    "\n",
    "    while len(ans) < rows * cols:\n",
    "      for _ in range(i // 2 + 1):\n",
    "        rStart += dy[i % 4]\n",
    "        cStart += dx[i % 4]\n",
    "        if 0 <= rStart < rows and 0 <= cStart < cols:\n",
    "          ans.append([rStart, cStart])\n",
    "      i += 1\n",
    "\n",
    "    return ans"
   ]
  }
 ],
 "metadata": {
  "language_info": {
   "name": "python"
  }
 },
 "nbformat": 4,
 "nbformat_minor": 2
}
