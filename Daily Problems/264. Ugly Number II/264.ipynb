{
 "cells": [
  {
   "cell_type": "markdown",
   "metadata": {},
   "source": [
    "<b>264. Ugly Number II (Medium)</b>"
   ]
  },
  {
   "cell_type": "markdown",
   "metadata": {},
   "source": [
    "<b>Question:</b>\n",
    "\n",
    "An ugly number is a positive integer whose prime factors are limited to 2, 3, and 5.\n",
    "\n",
    "Given an integer n, return the nth ugly number.\n",
    "\n",
    "<b>Constraints:</b>\n",
    "\n",
    "1 <= n <= 1690"
   ]
  },
  {
   "cell_type": "markdown",
   "metadata": {},
   "source": [
    "<b>Approach:</b>\n",
    "\n",
    "So the brute force approach here is to check all the numbers if they have any factors except 2,3 and 5 and return nth number which doesnt have any other factors. But the better approach than checking for factors except 2,3 and 5, it would be better if we're able to generate numbers which have only 2,3 and 5 as factors. \n",
    "\n",
    "One brute force kinda way to do it is that the maximum power of any number for nth number will be less than n-1 so we create nested loops and generate numbers, sort them and then return the nth number. This too is highly inefficient as first we have to generate multiple extra numbers and also sort them increasing space and time consumption. How to we optimise only multiplying 2,3 and 5 to the numbers?\n",
    "\n",
    "For this, we'll maintain 3 pointers pointing to the least number which hasn't been multiplied by corresponding number(2, 3 & 5). We check the minimum of the multiplied numbers and increment the positions if the minimum value is equal to the multiplied value.\n",
    "\n",
    "Time Complexity: 0(n)\n",
    "Space Complexity: 0(n)"
   ]
  },
  {
   "cell_type": "code",
   "execution_count": null,
   "metadata": {},
   "outputs": [],
   "source": [
    "class Solution:\n",
    "    def nthUglyNumber(self, n: int) -> int:\n",
    "        arr=[1]\n",
    "        i2,i3,i5=0,0,0\n",
    "        for i in range(n-1):\n",
    "            val=min(arr[i2]*2,arr[i3]*3,arr[i5]*5)\n",
    "            if val==arr[i2]*2:\n",
    "                i2+=1\n",
    "            if val==arr[i3]*3:\n",
    "                i3+=1\n",
    "            if val==arr[i5]*5:\n",
    "                i5+=1\n",
    "            arr.append(val)\n",
    "        # print(arr)\n",
    "        return arr[-1]"
   ]
  }
 ],
 "metadata": {
  "language_info": {
   "name": "python"
  }
 },
 "nbformat": 4,
 "nbformat_minor": 2
}
