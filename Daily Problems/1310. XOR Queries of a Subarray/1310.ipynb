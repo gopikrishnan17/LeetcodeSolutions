{
 "cells": [
  {
   "cell_type": "markdown",
   "metadata": {},
   "source": [
    "<b>1310. XOR Queries of a Subarray (Medium)</b>"
   ]
  },
  {
   "cell_type": "markdown",
   "metadata": {},
   "source": [
    "<b>Question:</b>\n",
    "\n",
    "You are given an array arr of positive integers. You are also given the array queries where queries[i] = [lefti, righti].\n",
    "\n",
    "For each query i compute the XOR of elements from lefti to righti (that is, arr[lefti] XOR arr[lefti + 1] XOR ... XOR arr[righti] ).\n",
    "\n",
    "Return an array answer where answer[i] is the answer to the ith query.\n",
    "\n",
    "<b>Constraints:</b>\n",
    "\n",
    "1 <= arr.length, queries.length <= 3 * 10^4\n",
    "\n",
    "1 <= arr[i] <= 10^9\n",
    "\n",
    "queries[i].length == 2\n",
    "\n",
    "0 <= lefti <= righti < arr.length"
   ]
  },
  {
   "cell_type": "markdown",
   "metadata": {},
   "source": [
    "<b>Approach:</b>\n",
    "\n",
    "The basic idea here is that x^x=0 and x^y^x=y. We use this concept with a prefix sum type concept. We'll first find the xor till each index of the array and then when we have to fid the xor for rang [i,j], we'll use xors[j]^xors[i].\n",
    "\n",
    "Time Complexity: 0(n)\n",
    "\n",
    "Space Complexity: 0(n)"
   ]
  },
  {
   "cell_type": "code",
   "execution_count": null,
   "metadata": {},
   "outputs": [],
   "source": [
    "class Solution:\n",
    "    def xorQueries(self, arr: List[int], queries: List[List[int]]) -> List[int]:\n",
    "        xors = [0]*(len(arr)+1)\n",
    "        for i,ele in enumerate(arr):\n",
    "            xors[i+1]=xors[i]^ele\n",
    "        ans=[]\n",
    "        for i,j in queries:\n",
    "            ans.append(xors[j+1]^xors[i])\n",
    "        return ans"
   ]
  }
 ],
 "metadata": {
  "language_info": {
   "name": "python"
  }
 },
 "nbformat": 4,
 "nbformat_minor": 2
}
