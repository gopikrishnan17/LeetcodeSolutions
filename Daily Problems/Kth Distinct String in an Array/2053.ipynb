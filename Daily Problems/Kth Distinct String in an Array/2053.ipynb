{
 "cells": [
  {
   "cell_type": "markdown",
   "metadata": {},
   "source": [
    "<b>2053. Kth Distinct String in an Array (Easy)</b>"
   ]
  },
  {
   "cell_type": "markdown",
   "metadata": {},
   "source": [
    "<b>Question:</b>\n",
    "A distinct string is a string that is present only once in an array.\n",
    "\n",
    "Given an array of strings arr, and an integer k, return the kth distinct string present in arr. If there are fewer than k distinct strings, return an empty string \"\".\n",
    "\n",
    "Note that the strings are considered in the order in which they appear in the array.\n",
    "\n",
    "<b>Constraints:</b>\n",
    "\n",
    "1 <= k <= arr.length <= 1000\n",
    "1 <= arr[i].length <= 5\n",
    "arr[i] consists of lowercase English letters."
   ]
  },
  {
   "cell_type": "markdown",
   "metadata": {},
   "source": [
    "<b>Approach1:</b>\n",
    "This is a brute for approach wherein for each element in the list we check if there's any other occurance and if there isn't any then add it to another list containing only unique elements. We then return the Kth value if it is in range of the list\n",
    "\n",
    "Time Complexity: 0(n*n)\n",
    "Space Complexity: 0(n)"
   ]
  },
  {
   "cell_type": "code",
   "execution_count": null,
   "metadata": {},
   "outputs": [],
   "source": [
    "class Solution:\n",
    "    def kthDistinct(self, arr: List[str], k: int) -> str:\n",
    "        check = []\n",
    "        n=len(arr)\n",
    "        for i in range(len(arr)):\n",
    "            if arr[i] not in arr[0:i]+arr[i+1:n]:\n",
    "                check.append(arr[i])\n",
    "        return check[k-1] if k<=len(check) else \"\""
   ]
  },
  {
   "cell_type": "markdown",
   "metadata": {},
   "source": [
    "<b>Approach2:</b>\n",
    "Create a counter dict from the list which has all the elements and their counts. Among elements which have count 1, return the Kth element\n",
    "\n",
    "Time Complexity: 0(n)\n",
    "Space Complexity: 0(n)"
   ]
  },
  {
   "cell_type": "code",
   "execution_count": null,
   "metadata": {},
   "outputs": [],
   "source": [
    "class Solution:\n",
    "    def kthDistinct(self, arr: List[str], k: int) -> str:\n",
    "        check = Counter(arr)\n",
    "        for ele in check:\n",
    "            if check[ele]==1:\n",
    "                k-=1\n",
    "            if k==0:\n",
    "                return ele\n",
    "        return \"\""
   ]
  }
 ],
 "metadata": {
  "language_info": {
   "name": "python"
  }
 },
 "nbformat": 4,
 "nbformat_minor": 2
}
