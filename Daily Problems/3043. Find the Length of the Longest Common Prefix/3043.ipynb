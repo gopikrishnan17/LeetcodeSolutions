{
 "cells": [
  {
   "cell_type": "markdown",
   "metadata": {},
   "source": [
    "<b>3043. Find the Length of the Longest Common Prefix (Medium)</b>"
   ]
  },
  {
   "cell_type": "markdown",
   "metadata": {},
   "source": [
    "<b>Question:</b>\n",
    "\n",
    "You are given two arrays with positive integers arr1 and arr2.\n",
    "\n",
    "A prefix of a positive integer is an integer formed by one or more of its digits, starting from its leftmost digit. For example, 123 is a prefix of the integer 12345, while 234 is not.\n",
    "\n",
    "A common prefix of two integers a and b is an integer c, such that c is a prefix of both a and b. For example, 5655359 and 56554 have a common prefix 565 while 1223 and 43456 do not have a common prefix.\n",
    "\n",
    "You need to find the length of the longest common prefix between all pairs of integers (x, y) such that x belongs to arr1 and y belongs to arr2.\n",
    "\n",
    "Return the length of the longest common prefix among all pairs. If no common prefix exists among them, return 0.\n",
    "\n",
    "<b>Constraints:</b>\n",
    "\n",
    "1 <= arr1.length, arr2.length <= 5 * 10^4\n",
    "\n",
    "1 <= arr1[i], arr2[i] <= 10^8"
   ]
  },
  {
   "cell_type": "markdown",
   "metadata": {},
   "source": [
    "<b>Approach:</b>\n",
    "\n",
    "At first I tried the brute force approach wherein for each element of arr1, we traverse through each element of arr2 and check what is the length of the logest common prefix between them. This is an 0(8*n^2) approach where * is the number of digits in the elements of arr1 & arr2. How do we optimise it?\n",
    "\n",
    "We will store all possile prefixes that can be generated with the elements in arr1 in a set and for each element in arr2, check what is the greatest prefix that is present in the set.\n",
    "\n",
    "Time Complexity: 0(n*log(n))\n",
    "Space Complexity: 0(n)"
   ]
  },
  {
   "cell_type": "code",
   "execution_count": null,
   "metadata": {},
   "outputs": [],
   "source": [
    "class Solution:\n",
    "    def longestCommonPrefix(self, arr1: List[int], arr2: List[int]) -> int:\n",
    "        ans = 0\n",
    "        set1 = set()\n",
    "        for ele1 in arr1:\n",
    "            ele1 = str(ele1)\n",
    "            for i in range(1,len(ele1)+1):\n",
    "                set1.add(ele1[:i])\n",
    "        for ele2 in arr2:\n",
    "            ele2 = str(ele2)\n",
    "            for i in range(len(ele2),0,-1):\n",
    "                if ele2[:i] in set1:\n",
    "                    ans=max(ans,i)\n",
    "                    continue\n",
    "        return ans"
   ]
  }
 ],
 "metadata": {
  "language_info": {
   "name": "python"
  }
 },
 "nbformat": 4,
 "nbformat_minor": 2
}
