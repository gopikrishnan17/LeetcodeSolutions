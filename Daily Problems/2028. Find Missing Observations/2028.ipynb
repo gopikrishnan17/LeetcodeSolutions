{
 "cells": [
  {
   "cell_type": "markdown",
   "metadata": {},
   "source": [
    "<b>2028. Find Missing Observations (Medium)</b>"
   ]
  },
  {
   "cell_type": "markdown",
   "metadata": {},
   "source": [
    "<b>Question:</b>\n",
    "\n",
    "You have observations of n + m 6-sided dice rolls with each face numbered from 1 to 6. n of the observations went missing, and you only have the observations of m rolls. Fortunately, you have also calculated the average value of the n + m rolls.\n",
    "\n",
    "You are given an integer array rolls of length m where rolls[i] is the value of the ith observation. You are also given the two integers mean and n.\n",
    "\n",
    "Return an array of length n containing the missing observations such that the average value of the n + m rolls is exactly mean. If there are multiple valid answers, return any of them. If no such array exists, return an empty array.\n",
    "\n",
    "The average value of a set of k numbers is the sum of the numbers divided by k.\n",
    "\n",
    "Note that mean is an integer, so the sum of the n + m rolls should be divisible by n + m.\n",
    "\n",
    "<b>Constraints:</b>\n",
    "\n",
    "m == rolls.length\n",
    "\n",
    "1 <= n, m <= 10^5\n",
    "\n",
    "1 <= rolls[i], mean <= 6"
   ]
  },
  {
   "cell_type": "markdown",
   "metadata": {},
   "source": [
    "<b>Approach:</b>\n",
    "\n",
    "So first we find what is the required sum to make the mean as given. If it is less that all ones or greater than all six then we return an emplty list. Else, we can iterate over the answer list initiated with 0 and keep adding 1 to the value of that index. The worst case in this case is 6*n or we can initiate the list with the summ//n and then iterate over the list adding 1 until we add remainder value\n",
    "\n",
    "Time Complexity: 0(n)\n",
    "\n",
    "Space Complexity: 0(n)"
   ]
  },
  {
   "cell_type": "code",
   "execution_count": null,
   "metadata": {
    "vscode": {
     "languageId": "plaintext"
    }
   },
   "outputs": [],
   "source": [
    "class Solution:\n",
    "    def missingRolls(self, rolls: List[int], mean: int, n: int) -> List[int]:\n",
    "        add = mean*(len(rolls)+n)-sum(rolls)\n",
    "        if add<n or add>6*n:\n",
    "            return []\n",
    "        ans = [add // n] * n\n",
    "        for i in range(add % n):\n",
    "            ans[i] += 1\n",
    "        return ans"
   ]
  }
 ],
 "metadata": {
  "language_info": {
   "name": "python"
  }
 },
 "nbformat": 4,
 "nbformat_minor": 2
}
