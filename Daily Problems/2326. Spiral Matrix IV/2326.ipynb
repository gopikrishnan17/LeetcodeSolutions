{
 "cells": [
  {
   "cell_type": "markdown",
   "metadata": {},
   "source": [
    "<b>2326. Spiral Matrix IV (Medium)</b>"
   ]
  },
  {
   "cell_type": "markdown",
   "metadata": {},
   "source": [
    "<b>Question: </b>\n",
    "\n",
    "You are given two integers m and n, which represent the dimensions of a matrix.\n",
    "\n",
    "You are also given the head of a linked list of integers.\n",
    "\n",
    "Generate an m x n matrix that contains the integers in the linked list presented in spiral order (clockwise), starting from the top-left of the matrix. If there are remaining empty spaces, fill them with -1.\n",
    "\n",
    "Return the generated matrix.\n",
    "\n",
    "<b>Constraints:</b>\n",
    "\n",
    "1 <= m, n <= 10^5\n",
    "\n",
    "1 <= m * n <= 10^5\n",
    "\n",
    "The number of nodes in the list is in the range [1, m * n].\n",
    "\n",
    "0 <= Node.val <= 1000"
   ]
  },
  {
   "cell_type": "markdown",
   "metadata": {},
   "source": [
    "<b>Approach:</b>\n",
    "\n",
    "The approach here is to use an array to increment positions according to direction of movement and maintain checks to see when the direction is changing. There's also a set named check which checks if an idex has already been traversed before assigning some value to it.\n",
    "\n",
    "Time Complexity: O(n*log(n)) [n here is the length of linked list]\n",
    "\n",
    "Space Complexity: 0(m*n)"
   ]
  },
  {
   "cell_type": "code",
   "execution_count": null,
   "metadata": {},
   "outputs": [],
   "source": [
    "# Definition for singly-linked list.\n",
    "# class ListNode:\n",
    "#     def __init__(self, val=0, next=None):\n",
    "#         self.val = val\n",
    "#         self.next = next\n",
    "class Solution:\n",
    "    def spiralMatrix(self, m: int, n: int, head: Optional[ListNode]) -> List[List[int]]:\n",
    "        arr = [[-1 for i in range(n)] for j in range(m)]\n",
    "        direction = [[0,1],[1,0],[0,-1],[-1,0]]\n",
    "        i,j,idx=0,0,0\n",
    "        endp= [n,m,-1,0]\n",
    "        check = set()\n",
    "        while head:\n",
    "            if (i,j) not in check:\n",
    "                arr[i][j]=head.val\n",
    "                head=head.next\n",
    "                check.add((i,j))\n",
    "            # print(i,j,idx)\n",
    "            i+=direction[idx][0]\n",
    "            j+=direction[idx][1]\n",
    "            if idx==0 and j==endp[0]:\n",
    "                idx=1\n",
    "                j-=1\n",
    "                endp[0]-=1\n",
    "            elif idx==1 and i==endp[1]:\n",
    "                idx=2\n",
    "                i-=1\n",
    "                endp[1]-=1\n",
    "            elif idx==2 and j==endp[2]:\n",
    "                idx=3\n",
    "                j+=1\n",
    "                endp[2]+=1\n",
    "            elif idx==3 and i==endp[3]:\n",
    "                idx=0\n",
    "                i+=1\n",
    "                endp[3]+=1\n",
    "        return arr"
   ]
  }
 ],
 "metadata": {
  "language_info": {
   "name": "python"
  }
 },
 "nbformat": 4,
 "nbformat_minor": 2
}
