{
 "cells": [
  {
   "cell_type": "markdown",
   "metadata": {},
   "source": [
    "<b>590. N-ary Tree Postorder Traversal (Easy)</b>"
   ]
  },
  {
   "cell_type": "markdown",
   "metadata": {
    "vscode": {
     "languageId": "plaintext"
    }
   },
   "source": [
    "<b>Question:</b>\n",
    "\n",
    "Given the root of an n-ary tree, return the postorder traversal of its nodes' values.\n",
    "\n",
    "Nary-Tree input serialization is represented in their level order traversal. Each group of children is separated by the null value (See examples)\n",
    "\n",
    "<b>Constraints:</b>\n",
    "\n",
    "The number of nodes in the tree is in the range [0, 10^4].\n",
    "\n",
    "0 <= Node.val <= 10^4\n",
    "\n",
    "The height of the n-ary tree is less than or equal to 1000."
   ]
  },
  {
   "cell_type": "markdown",
   "metadata": {},
   "source": [
    "<b>Approach:</b>\n",
    "\n",
    "The approach here is simple and same as the normal postorder traversal of binary tree. We just run a for loop to traverse through all the children nodes.\n",
    "\n",
    "Time Complexity: 0(n)\n",
    "Space Complexity: 0(n)"
   ]
  },
  {
   "cell_type": "code",
   "execution_count": null,
   "metadata": {},
   "outputs": [],
   "source": [
    "\"\"\"\n",
    "# Definition for a Node.\n",
    "class Node:\n",
    "    def __init__(self, val=None, children=None):\n",
    "        self.val = val\n",
    "        self.children = children\n",
    "\"\"\"\n",
    "\n",
    "class Solution:\n",
    "    def postorder(self, root: 'Node') -> List[int]:\n",
    "        ans=[]\n",
    "        def traverse(node):\n",
    "            if not node:\n",
    "                return\n",
    "            for ele in node.children:\n",
    "                traverse(ele)\n",
    "            ans.append(node.val)\n",
    "        traverse(root)\n",
    "        return ans"
   ]
  }
 ],
 "metadata": {
  "language_info": {
   "name": "python"
  }
 },
 "nbformat": 4,
 "nbformat_minor": 2
}
