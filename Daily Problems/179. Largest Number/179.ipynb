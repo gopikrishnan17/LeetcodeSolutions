{
 "cells": [
  {
   "cell_type": "markdown",
   "metadata": {},
   "source": [
    "<b>179. Largest Number (Medium)</b>"
   ]
  },
  {
   "cell_type": "markdown",
   "metadata": {},
   "source": [
    "<b>Question:</b>\n",
    "\n",
    "Given a list of non-negative integers nums, arrange them such that they form the largest number and return it.\n",
    "\n",
    "Since the result may be very large, so you need to return a string instead of an integer.\n",
    "\n",
    "<b>Constraints:</b>\n",
    "\n",
    "1 <= nums.length <= 100\n",
    "\n",
    "0 <= nums[i] <= 10^9"
   ]
  },
  {
   "cell_type": "markdown",
   "metadata": {},
   "source": [
    "<b>Approach:</b>\n",
    "\n",
    "The basic concept to be used here is that let n1 and n2 be two numbers in the array and we have converted them into strings, then if n1+n2>n2+n1, in the sorted array n1 has to appear before n2. This can be done using bubble sort (0(n^2)) or merge/quick sort (0(n*log(n))).\n",
    "\n",
    "Time Complexity: 0(n*log(n))\n",
    "Space Complexity: 0(n)"
   ]
  },
  {
   "cell_type": "code",
   "execution_count": null,
   "metadata": {},
   "outputs": [],
   "source": [
    "class Solution:\n",
    "    def largestNumber(self, nums: List[int]) -> str:\n",
    "        for i in range(len(nums)):\n",
    "            nums[i]=str(nums[i])\n",
    "        \n",
    "        def compare(n1,n2):\n",
    "            if n1+n2>n2+n1:\n",
    "                return -1\n",
    "            else:\n",
    "                return 1\n",
    "        \n",
    "        ans = sorted(nums, key = cmp_to_key(compare))\n",
    "\n",
    "        return str(int(''.join(ans)))"
   ]
  }
 ],
 "metadata": {
  "language_info": {
   "name": "python"
  }
 },
 "nbformat": 4,
 "nbformat_minor": 2
}
