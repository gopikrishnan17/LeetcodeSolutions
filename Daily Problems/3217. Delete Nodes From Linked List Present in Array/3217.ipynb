{
 "cells": [
  {
   "cell_type": "markdown",
   "metadata": {},
   "source": [
    "<b>3217. Delete Nodes From Linked List Present in Array (Medium)</b>"
   ]
  },
  {
   "cell_type": "markdown",
   "metadata": {},
   "source": [
    "<b>Question:</b>\n",
    "\n",
    "You are given an array of integers nums and the head of a linked list. Return the head of the modified linked list after removing all nodes from the linked list that have a value that exists in nums.\n",
    "\n",
    "<b>Constraints:</b>\n",
    "\n",
    "1 <= nums.length <= 10^5\n",
    "\n",
    "1 <= nums[i] <= 10^5\n",
    "\n",
    "All elements in nums are unique.\n",
    "\n",
    "The number of nodes in the given list is in the range [1, 10^5].\n",
    "\n",
    "1 <= Node.val <= 10^5\n",
    "\n",
    "The input is generated such that there is at least one node in the linked list that has a value not present in nums."
   ]
  },
  {
   "cell_type": "markdown",
   "metadata": {},
   "source": [
    "<b>Approach:</b>\n",
    "\n",
    "One easy approach is to create a new linked list with values not in nums. This will require extra space. What we will be doing is to delete the nodes in the linked list with values in nums.\n",
    "\n",
    "Time Complexity: 0(n)\n",
    "Space Complexity: 0(1)"
   ]
  },
  {
   "cell_type": "code",
   "execution_count": null,
   "metadata": {},
   "outputs": [],
   "source": [
    "# Definition for singly-linked list.\n",
    "# class ListNode:\n",
    "#     def __init__(self, val=0, next=None):\n",
    "#         self.val = val\n",
    "#         self.next = next\n",
    "class Solution:\n",
    "    def modifiedList(self, nums: List[int], head: Optional[ListNode]) -> Optional[ListNode]:\n",
    "        ret = ListNode(next = head)\n",
    "        ans=ret\n",
    "        nums = set(nums)\n",
    "        while ans.next:\n",
    "            if ans.next.val in nums:\n",
    "                ans.next = ans.next.next\n",
    "            else:\n",
    "                ans=ans.next\n",
    "        return ret.next"
   ]
  }
 ],
 "metadata": {
  "language_info": {
   "name": "python"
  }
 },
 "nbformat": 4,
 "nbformat_minor": 2
}
