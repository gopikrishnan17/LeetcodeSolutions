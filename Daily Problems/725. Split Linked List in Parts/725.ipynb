{
 "cells": [
  {
   "cell_type": "markdown",
   "metadata": {},
   "source": [
    "<b>725. Split Linked List in Parts (Medium)</b>"
   ]
  },
  {
   "cell_type": "markdown",
   "metadata": {},
   "source": [
    "<b>Question:</b>\n",
    "\n",
    "Given the head of a singly linked list and an integer k, split the linked list into k consecutive linked list parts.\n",
    "\n",
    "The length of each part should be as equal as possible: no two parts should have a size differing by more than one. This may lead to some parts being null.\n",
    "\n",
    "The parts should be in the order of occurrence in the input list, and parts occurring earlier should always have a size greater than or equal to parts occurring later.\n",
    "\n",
    "Return an array of the k parts.\n",
    "\n",
    "<b>Constraints:</b>\n",
    "\n",
    "The number of nodes in the list is in the range [0, 1000].\n",
    "\n",
    "0 <= Node.val <= 1000\n",
    "\n",
    "1 <= k <= 50"
   ]
  },
  {
   "cell_type": "markdown",
   "metadata": {},
   "source": [
    "<b>Approach:</b>\n",
    "\n",
    "The maximum difference between sizes of the linked lists in the ans list must be 1 and the LL to the list should be greater than or equal to the LL in the right. This means that the minimum size of the LL in ans will be n//k (n is size of LL) and the first n%k LL will have an extra node. We then traverse the LL and then populate the ans.\n",
    "\n",
    "Time Complexity: 0(n)\n",
    "\n",
    "Space Complexity: 0(k)"
   ]
  },
  {
   "cell_type": "code",
   "execution_count": null,
   "metadata": {},
   "outputs": [],
   "source": [
    "# Definition for singly-linked list.\n",
    "# class ListNode:\n",
    "#     def __init__(self, val=0, next=None):\n",
    "#         self.val = val\n",
    "#         self.next = next\n",
    "class Solution:\n",
    "    def splitListToParts(self, head: Optional[ListNode], k: int) -> List[Optional[ListNode]]:\n",
    "        ret = head\n",
    "        n=0\n",
    "        ans = []\n",
    "        while ret:\n",
    "            ret = ret.next\n",
    "            n+=1\n",
    "        div, rem = n//k, n%k\n",
    "        ret = head\n",
    "        print(div,rem)\n",
    "        while k:\n",
    "            if not ret:\n",
    "                ans.append(None)\n",
    "                k-=1\n",
    "                continue\n",
    "            ap = ret\n",
    "            if rem>0:\n",
    "                for i in range(div):\n",
    "                    ret=ret.next\n",
    "            else:\n",
    "                for i in range(div-1):\n",
    "                    ret=ret.next\n",
    "                \n",
    "            temp = ret.next\n",
    "            ret.next=None\n",
    "            ret = temp\n",
    "            ans.append(ap)\n",
    "            rem-=1\n",
    "            k-=1\n",
    "        return ans"
   ]
  }
 ],
 "metadata": {
  "language_info": {
   "name": "python"
  }
 },
 "nbformat": 4,
 "nbformat_minor": 2
}
