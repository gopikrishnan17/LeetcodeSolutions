{
 "cells": [
  {
   "cell_type": "markdown",
   "metadata": {},
   "source": [
    "<b>1590. Make Sum Divisible by P (Medium)</b>"
   ]
  },
  {
   "cell_type": "markdown",
   "metadata": {},
   "source": [
    "<b>Question:</b>\n",
    "\n",
    "Given an array of positive integers nums, remove the smallest subarray (possibly empty) such that the sum of the remaining elements is divisible by p. It is not allowed to remove the whole array.\n",
    "\n",
    "Return the length of the smallest subarray that you need to remove, or -1 if it's impossible.\n",
    "\n",
    "A subarray is defined as a contiguous block of elements in the array.\n",
    "\n",
    "<b>Constraints:</b>\n",
    "\n",
    "1 <= nums.length <= 10^5\n",
    "\n",
    "1 <= nums[i] <= 10^9\n",
    "\n",
    "1 <= p <= 10^9"
   ]
  },
  {
   "cell_type": "markdown",
   "metadata": {},
   "source": [
    "<b>Approach:</b>\n",
    "\n",
    "So the idea here is that when we remove a subarray with the same remainder as the remainder with sum of all elements of the array, we'll get the array which is divisible by p. Now the problem is to find the subarray whose sum's remainder with p is equal to remainder of sum of whole array with p. We use prefix sum here and also maintain a dict of the remainders obtained and keep track of the minimum size of array to be removed.\n",
    "\n",
    "Time Complexity: 0(n)\n",
    "Space Complexity: 0(n)"
   ]
  },
  {
   "cell_type": "code",
   "execution_count": null,
   "metadata": {},
   "outputs": [],
   "source": [
    "class Solution:\n",
    "    def minSubarray(self, nums: List[int], p: int) -> int:\n",
    "        l = len(nums)\n",
    "        for i in range(1,l):\n",
    "            nums[i]+=nums[i-1]\n",
    "        x = nums[l-1]%p\n",
    "        if x == 0:\n",
    "            return 0\n",
    "        ans = float(inf)\n",
    "        dict = defaultdict(lambda : float(-inf))\n",
    "        for i in range(l):\n",
    "            if nums[i]%p == x:\n",
    "                ans = min(ans, i+1)    \n",
    "            ans = min(ans, i-dict[(nums[i]%p-x)%p])\n",
    "            dict[nums[i]%p]=i\n",
    "        return ans if ans!=l else -1"
   ]
  }
 ],
 "metadata": {
  "language_info": {
   "name": "python"
  }
 },
 "nbformat": 4,
 "nbformat_minor": 2
}
