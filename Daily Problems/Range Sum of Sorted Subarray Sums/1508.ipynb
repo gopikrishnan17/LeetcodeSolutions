{
 "cells": [
  {
   "cell_type": "markdown",
   "metadata": {},
   "source": [
    "<b>1508. Range Sum of Sorted Subarray Sums (Medium)</b>"
   ]
  },
  {
   "cell_type": "markdown",
   "metadata": {},
   "source": [
    "<b>Question:</b>\n",
    "You are given the array nums consisting of n positive integers. You computed the sum of all non-empty continuous subarrays from the array and then sorted them in non-decreasing order, creating a new array of n * (n + 1) / 2 numbers.\n",
    "\n",
    "Return the sum of the numbers from index left to index right (indexed from 1), inclusive, in the new array. Since the answer can be a huge number return it modulo 109 + 7."
   ]
  },
  {
   "cell_type": "markdown",
   "metadata": {},
   "source": [
    "<b>Approach:</b>\n",
    "The approach used here is a brute force one. We first create an array containing the sum of all the subarrays in the array nums. We then traverse the new array and return the modulo of sum."
   ]
  },
  {
   "cell_type": "code",
   "execution_count": null,
   "metadata": {},
   "outputs": [],
   "source": [
    "class Solution:\n",
    "    def rangeSum(self, nums: List[int], n: int, left: int, right: int) -> int:\n",
    "        arr=[]\n",
    "        for i in range(len(nums)):\n",
    "            add=0\n",
    "            for j in range(i,len(nums)):\n",
    "                add+=nums[j]\n",
    "                arr.append(add)\n",
    "        arr.sort()\n",
    "        add=0\n",
    "        for i in range(left-1,right):\n",
    "            add+=arr[i]\n",
    "        return add%(10**9+7)"
   ]
  }
 ],
 "metadata": {
  "language_info": {
   "name": "python"
  }
 },
 "nbformat": 4,
 "nbformat_minor": 2
}
