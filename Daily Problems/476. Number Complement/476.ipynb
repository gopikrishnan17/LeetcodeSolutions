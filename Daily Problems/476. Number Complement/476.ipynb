{
 "cells": [
  {
   "cell_type": "markdown",
   "metadata": {},
   "source": [
    "<b>476. Number Complement (Easy)</b>"
   ]
  },
  {
   "cell_type": "markdown",
   "metadata": {},
   "source": [
    "<b>Question:</b>\n",
    "\n",
    "The complement of an integer is the integer you get when you flip all the 0's to 1's and all the 1's to 0's in its binary representation.\n",
    "\n",
    "For example, The integer 5 is \"101\" in binary and its complement is \"010\" which is the integer 2.\n",
    "Given an integer num, return its complement.\n",
    "\n",
    "<b>Constraints:</b>\n",
    "\n",
    "1 <= num < 2^31"
   ]
  },
  {
   "cell_type": "markdown",
   "metadata": {},
   "source": [
    "<b>Approach:</b>\n",
    "So the initial approach was to convert the number into a binary array and then invert the bits and make the new number but then there's no need to store the bits in an array, you can create the inverse while traversing through the number itself.\n",
    "\n",
    "Time Complexity: 0(log(n))\n",
    "Space Complexity: 0(1)"
   ]
  },
  {
   "cell_type": "code",
   "execution_count": null,
   "metadata": {},
   "outputs": [],
   "source": [
    "class Solution:\n",
    "    def findComplement(self, num: int) -> int:\n",
    "        ans=0\n",
    "        i=0\n",
    "        while num:\n",
    "            ans+=(not num%2)*2**i\n",
    "            num//=2\n",
    "            i+=1\n",
    "        return ans"
   ]
  }
 ],
 "metadata": {
  "language_info": {
   "name": "python"
  }
 },
 "nbformat": 4,
 "nbformat_minor": 2
}
