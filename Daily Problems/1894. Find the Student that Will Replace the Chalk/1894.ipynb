{
 "cells": [
  {
   "cell_type": "markdown",
   "metadata": {},
   "source": [
    "<b>1894. Find the Student that Will Replace the Chalk (Medium)</b>"
   ]
  },
  {
   "cell_type": "markdown",
   "metadata": {},
   "source": [
    "<b>Question:</b>\n",
    "\n",
    "There are n students in a class numbered from 0 to n - 1. The teacher will give each student a problem starting with the student number 0, then the student number 1, and so on until the teacher reaches the student number n - 1. After that, the teacher will restart the process, starting with the student number 0 again.\n",
    "\n",
    "You are given a 0-indexed integer array chalk and an integer k. There are initially k pieces of chalk. When the student number i is given a problem to solve, they will use chalk[i] pieces of chalk to solve that problem. However, if the current number of chalk pieces is strictly less than chalk[i], then the student number i will be asked to replace the chalk.\n",
    "\n",
    "Return the index of the student that will replace the chalk pieces.\n",
    "\n",
    "<b>Constraints: </b>\n",
    "\n",
    "chalk.length == n\n",
    "\n",
    "1 <= n <= 10^5\n",
    "\n",
    "1 <= chalk[i] <= 10^5\n",
    "\n",
    "1 <= k <= 10^9"
   ]
  },
  {
   "cell_type": "markdown",
   "metadata": {},
   "source": [
    "<b>Approach: </b>\n",
    "\n",
    "The brute force approach or simulation approach here would be to keep traversing all the elements in the list and reduce k by whatever is the element and find out when the chalk gets over. This results in multple traversals of the list, to avoid this, we first get the remainder of k when divided by the sum of the list. This ensures that we traverse the list only once. Then we traverse the list and check when k is turning negative or zero. If k is negative, that index is the answer and if it is 0 then the next is the answer.\n",
    "\n",
    "Time Complexity: 0(n)\n",
    "Space Complexity: 0(1)"
   ]
  },
  {
   "cell_type": "code",
   "execution_count": null,
   "metadata": {},
   "outputs": [],
   "source": [
    "class Solution:\n",
    "    def chalkReplacer(self, chalk: List[int], k: int) -> int:\n",
    "        add = sum(chalk)\n",
    "        k=k%add\n",
    "        i=0\n",
    "        while k>0:\n",
    "            k-=chalk[i]\n",
    "            if k<0:\n",
    "                return i\n",
    "            i+=1\n",
    "        return i"
   ]
  }
 ],
 "metadata": {
  "language_info": {
   "name": "python"
  }
 },
 "nbformat": 4,
 "nbformat_minor": 2
}
