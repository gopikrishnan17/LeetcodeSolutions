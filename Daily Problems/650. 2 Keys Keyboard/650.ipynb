{
 "cells": [
  {
   "cell_type": "markdown",
   "metadata": {},
   "source": [
    "<b>650. 2 Keys Keyboard (Medium)</b>"
   ]
  },
  {
   "cell_type": "markdown",
   "metadata": {},
   "source": [
    "<b>Question:</b>\n",
    "\n",
    "There is only one character 'A' on the screen of a notepad. You can perform one of two operations on this notepad for each step:\n",
    "\n",
    "Copy All: You can copy all the characters present on the screen (a partial copy is not allowed).\n",
    "Paste: You can paste the characters which are copied last time.\n",
    "Given an integer n, return the minimum number of operations to get the character 'A' exactly n times on the screen.\n",
    "\n",
    "<b>Constraints:</b>\n",
    "\n",
    "1 <= n <= 1000"
   ]
  },
  {
   "cell_type": "markdown",
   "metadata": {},
   "source": [
    "<b>Approach:</b>\n",
    "\n",
    "So with this question it was pretty evident that we gotta use dynamic programming but the question is what are the details that we can derive from it and how can we actually implement it. So they've said that there's already an 'A' in the screen and we can either copy everything in the screen or paste whatever is currently present in the clipboard. This shows that the worst case for any number will be to be formed only by pasting 1s for which the answer will be n. This also shows that for prime numbers only pasting ones is possible since they have no other divisors, this gives us an idea to use a sieve of eratosthenes kinda approach to solve the problem. For each number, we check if for the multiples of that number, forming the final answer by pasting it will be the best approach and we keep updating the array.\n",
    "\n",
    "Time Complexity: 0(n^2)\n",
    "Space Complexity: 0(n)"
   ]
  },
  {
   "cell_type": "code",
   "execution_count": null,
   "metadata": {},
   "outputs": [],
   "source": [
    "class Solution:\n",
    "    def minSteps(self, n: int) -> int:\n",
    "        if n==1:\n",
    "            return 0\n",
    "        arr = [i for i in range(n+1)]\n",
    "        arr[1],arr[2]=0,2\n",
    "        for i in range(2,n//2+1):\n",
    "            j=2\n",
    "            while i*j<=n:\n",
    "                arr[i*j]=min(arr[i*j],arr[i]+j)\n",
    "                j+=1\n",
    "        return arr[-1]"
   ]
  }
 ],
 "metadata": {
  "language_info": {
   "name": "python"
  }
 },
 "nbformat": 4,
 "nbformat_minor": 2
}
