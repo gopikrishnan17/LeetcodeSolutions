{
 "cells": [
  {
   "cell_type": "markdown",
   "metadata": {},
   "source": [
    "<b>2419. Longest Subarray With Maximum Bitwise AND (Medium)</b>"
   ]
  },
  {
   "cell_type": "markdown",
   "metadata": {},
   "source": [
    "<b>Question:</b>\n",
    "\n",
    "You are given an integer array nums of size n.\n",
    "\n",
    "Consider a non-empty subarray from nums that has the maximum possible bitwise AND.\n",
    "\n",
    "In other words, let k be the maximum value of the bitwise AND of any subarray of nums. Then, only subarrays with a bitwise AND equal to k should be considered.\n",
    "Return the length of the longest such subarray.\n",
    "\n",
    "The bitwise AND of an array is the bitwise AND of all the numbers in it.\n",
    "\n",
    "A subarray is a contiguous sequence of elements within an array.\n",
    "\n",
    "<b>Constraints:</b>\n",
    "\n",
    "1 <= nums.length <= 10^5\n",
    "1 <= nums[i] <= 10^6"
   ]
  },
  {
   "cell_type": "markdown",
   "metadata": {},
   "source": [
    "<b>Approach:</b>\n",
    "\n",
    "The basic idea here is that when you do AND operation between any two numbers, the result is smaller than the larger number. So since we want to return the largest subarray with maximum AND, we'll have to find the largest contiguous block with elements equal to the maximum of the array.\n",
    "\n",
    "Time Complexity: 0(n)\n",
    "\n",
    "Space Complexity: 0(1)"
   ]
  },
  {
   "cell_type": "code",
   "execution_count": null,
   "metadata": {},
   "outputs": [],
   "source": [
    "class Solution:\n",
    "    def longestSubarray(self, nums: List[int]) -> int:\n",
    "        ret = max(nums)\n",
    "        ans=1\n",
    "        flag = False\n",
    "        for i in range(len(nums)):\n",
    "            if nums[i]==ret:\n",
    "                if not flag:\n",
    "                    pres=1\n",
    "                    flag=True\n",
    "                else:\n",
    "                    pres+=1\n",
    "                    ans=max(pres,ans)\n",
    "            else:\n",
    "                flag=False\n",
    "        return ans"
   ]
  }
 ],
 "metadata": {
  "language_info": {
   "name": "python"
  }
 },
 "nbformat": 4,
 "nbformat_minor": 2
}
