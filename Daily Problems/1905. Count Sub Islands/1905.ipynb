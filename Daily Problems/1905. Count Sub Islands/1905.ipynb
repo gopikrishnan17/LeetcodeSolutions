{
 "cells": [
  {
   "cell_type": "markdown",
   "metadata": {},
   "source": [
    "<b>1905. Count Sub Islands (Medium)</b>"
   ]
  },
  {
   "cell_type": "markdown",
   "metadata": {},
   "source": [
    "<b>Question:</b>\n",
    "\n",
    "You are given two m x n binary matrices grid1 and grid2 containing only 0's (representing water) and 1's (representing land). An island is a group of 1's connected 4-directionally (horizontal or vertical). Any cells outside of the grid are considered water cells.\n",
    "\n",
    "An island in grid2 is considered a sub-island if there is an island in grid1 that contains all the cells that make up this island in grid2.\n",
    "\n",
    "Return the number of islands in grid2 that are considered sub-islands.\n",
    "\n",
    "<b>Constraints:</b>\n",
    "\n",
    "m == grid1.length == grid2.length\n",
    "\n",
    "n == grid1[i].length == grid2[i].length\n",
    "\n",
    "1 <= m, n <= 500\n",
    "\n",
    "grid1[i][j] and grid2[i][j] are either 0 or 1."
   ]
  },
  {
   "cell_type": "markdown",
   "metadata": {},
   "source": [
    "<b>Approach:</b>\n",
    "\n",
    "The approach to the question is quite simple but I messed up in the beginning. Lets first understand the question well, we have two gids: grid1 and grid2, we are asked to find the number of islands in grid 2 such that this island is a part of an island in grid1. Now what does it mean? Should we find out all the islands in grid1 and grid2 and check how many such islands are there in grid2 wherein all the indexes are present in an island in grid1? It can work but it is a very inefficient solution. If the indexes of an island in grid2 form an island then wont the combination of those indexes form an island in grid1 too? So what we do is, find out the islands in grid2 and check for each island in grid2 is there land in grid1 too. If the answer is yes then we append the answer.\n",
    "\n",
    "Time Complexity: 0(m*n)\n",
    "Space Complexity: 0(m*n)"
   ]
  },
  {
   "cell_type": "code",
   "execution_count": null,
   "metadata": {},
   "outputs": [],
   "source": [
    "class Solution:\n",
    "    def countSubIslands(self, grid1: List[List[int]], grid2: List[List[int]]) -> int:\n",
    "        rows, cols = len(grid1), len(grid1[0])\n",
    "\n",
    "        def dfs(i,j):\n",
    "            if (i,j) in visited:\n",
    "                return\n",
    "            if i<0 or j<0 or i>=rows or j>=cols or grid2[i][j]==0:\n",
    "                return\n",
    "            visited.add((i,j))\n",
    "            arr.append((i,j))\n",
    "            dfs(i+1,j)\n",
    "            dfs(i,j+1)\n",
    "            dfs(i-1,j)\n",
    "            dfs(i,j-1)\n",
    "\n",
    "        #grid2 traversal\n",
    "        visited = set()\n",
    "        islands2 = []\n",
    "\n",
    "        for i in range(rows):\n",
    "            for j in range(cols):\n",
    "                if (i,j) not in visited and grid2[i][j]==1:\n",
    "                    arr=[]\n",
    "                    dfs(i,j)\n",
    "                    islands2.append(arr)\n",
    "        # print(islands2)\n",
    "        ans=0\n",
    "        for ele2 in islands2:\n",
    "            flag=True\n",
    "            for i,j in ele2:\n",
    "                if grid1[i][j]==0:\n",
    "                    flag=False\n",
    "                    break\n",
    "            if flag:\n",
    "                ans+=1\n",
    "\n",
    "        return ans"
   ]
  }
 ],
 "metadata": {
  "language_info": {
   "name": "python"
  }
 },
 "nbformat": 4,
 "nbformat_minor": 2
}
