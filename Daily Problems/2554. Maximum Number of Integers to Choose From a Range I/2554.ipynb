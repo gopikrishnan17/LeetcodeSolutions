{
 "cells": [
  {
   "cell_type": "markdown",
   "metadata": {},
   "source": [
    "<b>2554. Maximum Number of Integers to Choose From a Range I (Medium)</b>"
   ]
  },
  {
   "cell_type": "markdown",
   "metadata": {},
   "source": [
    "<b>Question:</b>\n",
    "\n",
    "You are given an integer array banned and two integers n and maxSum. You are choosing some number of integers following the below rules:\n",
    "\n",
    "The chosen integers have to be in the range [1, n].\n",
    "Each integer can be chosen at most once.\n",
    "The chosen integers should not be in the array banned.\n",
    "The sum of the chosen integers should not exceed maxSum.\n",
    "Return the maximum number of integers you can choose following the mentioned rules.\n",
    "\n",
    "Example 1:\n",
    "\n",
    "Input: banned = [1,6,5], n = 5, maxSum = 6\n",
    "Output: 2\n",
    "Explanation: You can choose the integers 2 and 4.\n",
    "2 and 4 are from the range [1, 5], both did not appear in banned, and their sum is 6, which did not exceed maxSum.\n",
    "Example 2:\n",
    "\n",
    "Input: banned = [1,2,3,4,5,6,7], n = 8, maxSum = 1\n",
    "Output: 0\n",
    "Explanation: You cannot choose any integer while following the mentioned conditions.\n",
    "Example 3:\n",
    "\n",
    "Input: banned = [11], n = 7, maxSum = 50\n",
    "Output: 7\n",
    "Explanation: You can choose the integers 1, 2, 3, 4, 5, 6, and 7.\n",
    "They are from the range [1, 7], all did not appear in banned, and their sum is 28, which did not exceed maxSum.\n",
    "\n",
    "<b>Constraints:</b>\n",
    "\n",
    "1 <= banned.length <= 10^4\n",
    "\n",
    "1 <= banned[i], n <= 10^4\n",
    "\n",
    "1 <= maxSum <= 10^9"
   ]
  },
  {
   "cell_type": "markdown",
   "metadata": {},
   "source": [
    "<b>Approach:</b>\n",
    "\n",
    "Looking at the constraints, we know that the solution can run in n*log(n) or maybe even n^2. We convert the banned list into a set so that the search operation takes a max of log(n) time. So we go from 1 to n (both inclusive) and see which all numbers we can include.\n",
    "\n",
    "Time Complexity: 0(n*log(n))\n",
    "Space Complexity: 0(1)"
   ]
  },
  {
   "cell_type": "code",
   "execution_count": null,
   "metadata": {},
   "outputs": [],
   "source": [
    "class Solution:\n",
    "    def maxCount(self, banned: List[int], n: int, maxSum: int) -> int:\n",
    "        banned = set(banned)\n",
    "        ans = 0\n",
    "        add=0\n",
    "        for i in range(1,n+1):\n",
    "            if add+i>maxSum:\n",
    "                break\n",
    "            if i not in banned:\n",
    "                ans+=1\n",
    "                add+=i\n",
    "        return ans"
   ]
  }
 ],
 "metadata": {
  "language_info": {
   "name": "python"
  }
 },
 "nbformat": 4,
 "nbformat_minor": 2
}
