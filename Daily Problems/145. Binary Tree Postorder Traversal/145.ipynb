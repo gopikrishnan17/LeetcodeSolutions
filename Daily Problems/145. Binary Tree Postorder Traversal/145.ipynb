{
 "cells": [
  {
   "cell_type": "markdown",
   "metadata": {},
   "source": [
    "<b>145. Binary Tree Postorder Traversal (Easy)</b>"
   ]
  },
  {
   "cell_type": "markdown",
   "metadata": {},
   "source": [
    "<b>Question: </b>\n",
    "\n",
    "Given the root of a binary tree, return the postorder traversal of its nodes' values.\n",
    "\n",
    "<b>Constraints: </b>\n",
    "\n",
    "The number of the nodes in the tree is in the range [0, 100].\n",
    "\n",
    "-100 <= Node.val <= 100"
   ]
  },
  {
   "cell_type": "markdown",
   "metadata": {},
   "source": [
    "<b>Approach: </b>\n",
    "\n",
    "I have used a recursive approach here, just basics\n",
    "\n",
    "Time Complexity: 0(n)\n",
    "Space Complexity: 0(n)"
   ]
  },
  {
   "cell_type": "code",
   "execution_count": null,
   "metadata": {
    "vscode": {
     "languageId": "plaintext"
    }
   },
   "outputs": [],
   "source": [
    "# Definition for a binary tree node.\n",
    "# class TreeNode:\n",
    "#     def __init__(self, val=0, left=None, right=None):\n",
    "#         self.val = val\n",
    "#         self.left = left\n",
    "#         self.right = right\n",
    "class Solution:\n",
    "    def postorderTraversal(self, root: Optional[TreeNode]) -> List[int]:\n",
    "        ans = []\n",
    "        def trav(node):\n",
    "            if not node:\n",
    "                return\n",
    "            trav(node.left)\n",
    "            trav(node.right)\n",
    "            ans.append(node.val)\n",
    "        trav(root)\n",
    "        return ans"
   ]
  }
 ],
 "metadata": {
  "language_info": {
   "name": "python"
  }
 },
 "nbformat": 4,
 "nbformat_minor": 2
}
